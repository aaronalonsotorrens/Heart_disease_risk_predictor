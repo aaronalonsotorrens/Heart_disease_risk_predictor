{
 "cells": [
  {
   "cell_type": "markdown",
   "id": "d8df5593",
   "metadata": {},
   "source": [
    "# 🧪 Notebook 6 — Model Deployment & Inference\n",
    "\n",
    "**Objective:**  \n",
    "\n",
    "Prepare the final, tuned model for deployment. This notebook will:\n",
    " \n",
    "- Load the best model(s) from Notebook 5.  \n",
    "  \n",
    "- Build preprocessing + prediction pipeline.  \n",
    "  \n",
    "- Create functions for inference on new data.  \n",
    "  \n",
    "- Test predictions with sample inputs.  \n",
    "  \n",
    "- Visualize feature importance for interpretability.  \n",
    "  \n",
    "- Save the pipeline for deployment.\n",
    " \n",
    " \n",
    "This ensures that new data can be fed into the model consistently and predictions are reproducible.\n",
    "\n",
    "---\n"
   ]
  },
  {
   "cell_type": "markdown",
   "id": "37a5767b",
   "metadata": {},
   "source": [
    "## 6.1 Load Tuned Model & Scaler\n",
    "\n",
    "With the new approach, our saved pipelines already include scaling + model, so we no longer need to load a separate scaler.\n"
   ]
  },
  {
   "cell_type": "code",
   "execution_count": 20,
   "id": "bd4beaca",
   "metadata": {},
   "outputs": [
    {
     "name": "stdout",
     "output_type": "stream",
     "text": [
      "✅ Best model pipelines loaded successfully\n"
     ]
    }
   ],
   "source": [
    "import joblib\n",
    "import pandas as pd\n",
    "\n",
    "# Load best pipelines\n",
    "pipeline_log_reg = joblib.load(\"models/tuned/best_log_reg_pipeline.pkl\")\n",
    "pipeline_rf      = joblib.load(\"models/tuned/best_rf_pipeline.pkl\")\n",
    "\n",
    "print(\"✅ Best model pipelines loaded successfully\")"
   ]
  },
  {
   "cell_type": "markdown",
   "id": "ef5d1694",
   "metadata": {},
   "source": [
    "---\n",
    "\n",
    "## 6.2 Build Inference Pipeline\n",
    "\n",
    "The function now directly takes raw input (as a DataFrame) and applies the pipeline end-to-end."
   ]
  },
  {
   "cell_type": "code",
   "execution_count": 21,
   "id": "208957c8",
   "metadata": {},
   "outputs": [],
   "source": [
    "def predict_pipeline(model_pipeline, new_data):\n",
    "    \"\"\"\n",
    "    Takes a pipeline (preprocessing + model) and a DataFrame of new data,\n",
    "    returns predicted class and probability for heart disease.\n",
    "    \"\"\"\n",
    "    pred_class = model_pipeline.predict(new_data)\n",
    "    pred_proba = model_pipeline.predict_proba(new_data)[:, 1]\n",
    "    return pred_class, pred_proba"
   ]
  },
  {
   "cell_type": "markdown",
   "id": "aa82a821",
   "metadata": {},
   "source": [
    "---"
   ]
  },
  {
   "cell_type": "code",
   "execution_count": 22,
   "id": "c23092ac",
   "metadata": {},
   "outputs": [
    {
     "name": "stdout",
     "output_type": "stream",
     "text": [
      "Pipeline(steps=[('preprocessor',\n",
      "                 ColumnTransformer(transformers=[('num', StandardScaler(),\n",
      "                                                  ['age', 'trestbps', 'chol',\n",
      "                                                   'thalch', 'oldpeak']),\n",
      "                                                 ('cat',\n",
      "                                                  OneHotEncoder(drop='first',\n",
      "                                                                sparse_output=False),\n",
      "                                                  [])])),\n",
      "                ('log_reg',\n",
      "                 LogisticRegression(C=10, max_iter=1000, random_state=42,\n",
      "                                    solver='liblinear'))])\n"
     ]
    }
   ],
   "source": [
    "# Look at the steps in your pipeline\n",
    "print(pipeline_log_reg)\n"
   ]
  },
  {
   "cell_type": "markdown",
   "id": "87624311",
   "metadata": {},
   "source": [
    "---\n",
    "\n",
    "## 6.3 Test Predictions with Sample Data\n",
    "\n",
    "We can test both Logistic Regression and Random Forest here. Users can input their own data in the same format as the training features.\n"
   ]
  },
  {
   "cell_type": "code",
   "execution_count": 23,
   "id": "74c6eefe",
   "metadata": {},
   "outputs": [
    {
     "name": "stdout",
     "output_type": "stream",
     "text": [
      "Prediction: 1\n",
      "Probability: 0.574\n",
      "Random Forest Prediction: 1\n",
      "Probability: 0.677\n"
     ]
    }
   ],
   "source": [
    "# Example sample input (replace with realistic values)\n",
    "sample_data = pd.DataFrame({\n",
    "    \"age\": [55],\n",
    "    \"sex\": [1],\n",
    "    \"cp\": [3],\n",
    "    \"trestbps\": [140],\n",
    "    \"chol\": [220],\n",
    "    \"fbs\": [0],\n",
    "    \"restecg\": [1],\n",
    "    \"thalch\": [150],\n",
    "    \"exang\": [0],\n",
    "    \"oldpeak\": [1.5],\n",
    "})\n",
    "\n",
    "# Logistic Regression prediction\n",
    "pred_class_lr, pred_proba_lr = predict_pipeline(pipeline_log_reg, sample_data)\n",
    "print(\"Prediction:\", pred_class_lr[0])\n",
    "print(\"Probability:\", round(pred_proba_lr[0], 3))\n",
    "\n",
    "# Random Forest prediction\n",
    "pred_class_rf, pred_proba_rf = predict_pipeline(pipeline_rf, sample_data)\n",
    "print(\"Random Forest Prediction:\", pred_class_rf[0])\n",
    "print(\"Probability:\", round(pred_proba_rf[0], 3))"
   ]
  }
 ],
 "metadata": {
  "kernelspec": {
   "display_name": "3.12.1",
   "language": "python",
   "name": "python3"
  },
  "language_info": {
   "codemirror_mode": {
    "name": "ipython",
    "version": 3
   },
   "file_extension": ".py",
   "mimetype": "text/x-python",
   "name": "python",
   "nbconvert_exporter": "python",
   "pygments_lexer": "ipython3",
   "version": "3.12.1"
  }
 },
 "nbformat": 4,
 "nbformat_minor": 5
}
