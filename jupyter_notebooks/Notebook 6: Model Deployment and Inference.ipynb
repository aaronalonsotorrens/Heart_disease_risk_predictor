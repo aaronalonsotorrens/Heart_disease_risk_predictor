{
 "cells": [
  {
   "cell_type": "markdown",
   "id": "d8df5593",
   "metadata": {},
   "source": [
    "# 🧪 Notebook 6 — Model Deployment & Inference\n",
    "\n",
    "**Objective:**  \n",
    "\n",
    "Prepare the final, tuned model for deployment. This notebook will:\n",
    " \n",
    "- Load the best model(s) from Notebook 5.  \n",
    "  \n",
    "- Build preprocessing + prediction pipeline.  \n",
    "  \n",
    "- Create functions for inference on new data.  \n",
    "  \n",
    "- Test predictions with sample inputs.  \n",
    "  \n",
    "- Visualize feature importance for interpretability.  \n",
    "  \n",
    "- Save the pipeline for deployment.\n",
    " \n",
    " \n",
    "This ensures that new data can be fed into the model consistently and predictions are reproducible.\n",
    "\n",
    "---\n"
   ]
  },
  {
   "cell_type": "markdown",
   "id": "37a5767b",
   "metadata": {},
   "source": [
    "## 6.1 Load Tuned Model & Scaler  \n",
    "\n",
    "**Purpose**  \n",
    "\n",
    "Retrieve trained pipelines that include preprocessing and model steps.  \n",
    "\n",
    "**Approach**  \n",
    "\n",
    "- Load saved `.pkl` files using `joblib`.  \n",
    "  \n",
    "- Ensure both Logistic Regression and Random Forest are available.  \n",
    "\n",
    "**Expected Outcome**  \n",
    "\n",
    "Best-performing tuned pipelines are loaded and ready for inference. "
   ]
  },
  {
   "cell_type": "code",
   "execution_count": 3,
   "id": "bd4beaca",
   "metadata": {},
   "outputs": [
    {
     "name": "stdout",
     "output_type": "stream",
     "text": [
      "✅ Best model pipelines loaded successfully\n"
     ]
    }
   ],
   "source": [
    "import joblib\n",
    "import pandas as pd\n",
    "\n",
    "# Load best pipelines\n",
    "pipeline_log_reg = joblib.load(\"models/tuned/best_log_reg_pipeline.pkl\")\n",
    "pipeline_rf      = joblib.load(\"models/tuned/best_rf_pipeline.pkl\")\n",
    "\n",
    "print(\"✅ Best model pipelines loaded successfully\")"
   ]
  },
  {
   "cell_type": "markdown",
   "id": "ef5d1694",
   "metadata": {},
   "source": [
    "---\n",
    "\n",
    "## 6.2 Build Inference Pipeline  \n",
    "\n",
    "**Purpose**  \n",
    "\n",
    "Enable predictions on new raw patient data.  \n",
    "\n",
    "**Approach**  \n",
    "\n",
    "- Define a function that takes a trained pipeline and raw input.  \n",
    "  \n",
    "- Return both predicted class and probability.  \n",
    "\n",
    "**Expected Outcome**  \n",
    "\n",
    "Reusable function for inference with any saved model pipeline. "
   ]
  },
  {
   "cell_type": "code",
   "execution_count": 4,
   "id": "208957c8",
   "metadata": {},
   "outputs": [],
   "source": [
    "import pandas as pd\n",
    "\n",
    "def predict_pipeline(model_pipeline, new_data: pd.DataFrame):\n",
    "    \"\"\"\n",
    "    Run inference using a preprocessing + model pipeline.\n",
    "    \n",
    "    Args:\n",
    "        model_pipeline: Trained pipeline (preprocessor + model).\n",
    "        new_data (pd.DataFrame): New patient data in raw form.\n",
    "        \n",
    "    Returns:\n",
    "        pred_class: Predicted class (0 = No Heart Disease, 1 = Heart Disease)\n",
    "        pred_proba: Probability of heart disease (0.0 - 1.0)\n",
    "    \"\"\"\n",
    "    pred_class = model_pipeline.predict(new_data)\n",
    "    pred_proba = model_pipeline.predict_proba(new_data)[:, 1]\n",
    "    return pred_class, pred_proba"
   ]
  },
  {
   "cell_type": "markdown",
   "id": "87624311",
   "metadata": {},
   "source": [
    "---\n",
    "\n",
    "## 6.3 Test Predictions with Sample Data  \n",
    "\n",
    "**Purpose** \n",
    "\n",
    "Validate that pipelines work correctly on new inputs.  \n",
    "\n",
    "**Approach**  \n",
    "\n",
    "- Provide a test patient record in the same format as training features.\n",
    "    \n",
    "- Run predictions for Logistic Regression and Random Forest.  \n",
    "\n",
    "**Expected Outcome**  \n",
    "\n",
    "Successful predictions with both class labels and probabilities.  \n"
   ]
  },
  {
   "cell_type": "code",
   "execution_count": 6,
   "id": "74c6eefe",
   "metadata": {},
   "outputs": [
    {
     "name": "stdout",
     "output_type": "stream",
     "text": [
      "🔹 Logistic Regression\n",
      "Prediction: 1\n",
      "Probability: 0.574\n",
      "\n",
      "🔹 Random Forest\n",
      "Prediction: 1\n",
      "Probability: 0.677\n"
     ]
    }
   ],
   "source": [
    "# Example sample input (replace with realistic values)\n",
    "sample_data = pd.DataFrame({\n",
    "    \"age\": [55],\n",
    "    \"sex\": [1],\n",
    "    \"cp\": [3],\n",
    "    \"trestbps\": [140],\n",
    "    \"chol\": [220],\n",
    "    \"fbs\": [0],\n",
    "    \"restecg\": [1],\n",
    "    \"thalch\": [150],\n",
    "    \"exang\": [0],\n",
    "    \"oldpeak\": [1.5],\n",
    "})\n",
    "\n",
    "# Logistic Regression\n",
    "pred_class_lr, pred_proba_lr = predict_pipeline(pipeline_log_reg, sample_data)\n",
    "print(\"🔹 Logistic Regression\")\n",
    "print(\"Prediction:\", pred_class_lr[0])\n",
    "print(\"Probability:\", round(pred_proba_lr[0], 3))\n",
    "\n",
    "# Random Forest\n",
    "pred_class_rf, pred_proba_rf = predict_pipeline(pipeline_rf, sample_data)\n",
    "print(\"\\n🔹 Random Forest\")\n",
    "print(\"Prediction:\", pred_class_rf[0])\n",
    "print(\"Probability:\", round(pred_proba_rf[0], 3))"
   ]
  },
  {
   "cell_type": "markdown",
   "id": "db8b48b0",
   "metadata": {},
   "source": [
    "---"
   ]
  },
  {
   "cell_type": "markdown",
   "id": "1a04d92c",
   "metadata": {},
   "source": [
    "## 6.4 Optional: Visualize Feature Importance  \n",
    "\n",
    "**Purpose**  \n",
    "\n",
    "Interpret which features drive predictions in each model.  \n",
    "\n",
    "**Approach**  \n",
    "\n",
    "- Extract coefficients for Logistic Regression.  \n",
    "  \n",
    "- Extract feature importances for Random Forest.  \n",
    "  \n",
    "- Visualize both with bar plots.  \n",
    "\n",
    "**Expected Outcome**  \n",
    "\n",
    "Visual explanation of model decision-making, aiding interpretability. "
   ]
  },
  {
   "cell_type": "code",
   "execution_count": 8,
   "id": "98a7e71f",
   "metadata": {},
   "outputs": [
    {
     "data": {
      "image/png": "[encoded data removed]",
      "text/plain": [
       "<Figure size 1000x500 with 1 Axes>"
      ]
     },
     "metadata": {},
     "output_type": "display_data"
    },
    {
     "data": {
      "image/png": "[encoded data removed]",
      "text/plain": [
       "<Figure size 1000x500 with 1 Axes>"
      ]
     },
     "metadata": {},
     "output_type": "display_data"
    }
   ],
   "source": [
    "import matplotlib.pyplot as plt\n",
    "import seaborn as sns\n",
    "import numpy as np\n",
    "\n",
    "# Get feature names from preprocessing\n",
    "feature_names = pipeline_log_reg.named_steps[\"preprocessor\"].get_feature_names_out()\n",
    "\n",
    "# --- Logistic Regression Coefficients ---\n",
    "# Find the model step name dynamically (last step in pipeline)\n",
    "lr_model = list(pipeline_log_reg.named_steps.values())[-1]\n",
    "coeffs = lr_model.coef_[0]\n",
    "\n",
    "plt.figure(figsize=(10,5))\n",
    "sns.barplot(x=coeffs, y=feature_names)\n",
    "plt.title(\"Logistic Regression - Feature Importance\")\n",
    "plt.xlabel(\"Coefficient Value\")\n",
    "plt.ylabel(\"Feature\")\n",
    "plt.show()\n",
    "\n",
    "# --- Random Forest Importances ---\n",
    "rf_model = list(pipeline_rf.named_steps.values())[-1]\n",
    "importances = rf_model.feature_importances_\n",
    "\n",
    "plt.figure(figsize=(10,5))\n",
    "sns.barplot(x=importances, y=feature_names)\n",
    "plt.title(\"Random Forest - Feature Importance\")\n",
    "plt.xlabel(\"Importance\")\n",
    "plt.ylabel(\"Feature\")\n",
    "plt.show()"
   ]
  },
  {
   "cell_type": "markdown",
   "id": "9a50533b",
   "metadata": {},
   "source": [
    "---\n",
    "\n",
    "## 6.5 Save Pipelines for Deployment  \n",
    "\n",
    "**Purpose**  \n",
    "\n",
    "Preserve final models for use in production environments.  \n",
    "\n",
    "**Approach**  \n",
    "\n",
    "- Save trained pipelines (including preprocessing) with `joblib`.  \n",
    "  \n",
    "- Store in a dedicated `models/deployment` directory.  \n",
    "\n",
    "**Expected Outcome**  \n",
    "\n",
    "Deployment-ready models that can be integrated into APIs or apps.  \n",
    " "
   ]
  },
  {
   "cell_type": "code",
   "execution_count": 11,
   "id": "552bbae7",
   "metadata": {},
   "outputs": [
    {
     "name": "stdout",
     "output_type": "stream",
     "text": [
      "✅ Final pipelines saved for deployment\n"
     ]
    }
   ],
   "source": [
    "import os\n",
    "os.makedirs(\"models/deployment\", exist_ok=True)\n",
    "\n",
    "joblib.dump(pipeline_log_reg, \"models/deployment/final_log_reg_pipeline.pkl\")\n",
    "joblib.dump(pipeline_rf, \"models/deployment/final_rf_pipeline.pkl\")\n",
    "\n",
    "print(\"✅ Final pipelines saved for deployment\")"
   ]
  }
 ],
 "metadata": {
  "kernelspec": {
   "display_name": "3.12.1",
   "language": "python",
   "name": "python3"
  },
  "language_info": {
   "codemirror_mode": {
    "name": "ipython",
    "version": 3
   },
   "file_extension": ".py",
   "mimetype": "text/x-python",
   "name": "python",
   "nbconvert_exporter": "python",
   "pygments_lexer": "ipython3",
   "version": "3.12.1"
  }
 },
 "nbformat": 4,
 "nbformat_minor": 5
}
