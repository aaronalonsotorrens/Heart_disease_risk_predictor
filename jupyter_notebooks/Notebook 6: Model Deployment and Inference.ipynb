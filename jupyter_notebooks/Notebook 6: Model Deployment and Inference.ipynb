{
 "cells": [
  {
   "cell_type": "markdown",
   "id": "d8df5593",
   "metadata": {},
   "source": [
    "# 🧪 Notebook 6 — Model Deployment & Inference\n",
    "\n",
    "**Objective:**  \n",
    "\n",
    "Prepare the final, tuned model for deployment. This notebook will:\n",
    " \n",
    "- Load the best model(s) from Notebook 5.  \n",
    "  \n",
    "- Build preprocessing + prediction pipeline.  \n",
    "  \n",
    "- Create functions for inference on new data.  \n",
    "  \n",
    "- Test predictions with sample inputs.  \n",
    "  \n",
    "- Visualize feature importance for interpretability.  \n",
    "  \n",
    "- Save the pipeline for deployment.\n",
    " \n",
    " \n",
    "This ensures that new data can be fed into the model consistently and predictions are reproducible.\n",
    "\n",
    "---\n"
   ]
  },
  {
   "cell_type": "markdown",
   "id": "37a5767b",
   "metadata": {},
   "source": [
    "## 6.1 Load Tuned Model & Scaler\n",
    "\n",
    "Loading the pre-fitted scaler ensures any new data uses the same normalization applied during training. This guarantees consistency and avoids data leakage.\n"
   ]
  },
  {
   "cell_type": "code",
   "execution_count": 5,
   "id": "bd4beaca",
   "metadata": {},
   "outputs": [
    {
     "name": "stdout",
     "output_type": "stream",
     "text": [
      "✅ Best models and scaler loaded successfully\n"
     ]
    }
   ],
   "source": [
    "import joblib\n",
    "import pandas as pd\n",
    "\n",
    "# Load scaler\n",
    "scaler = joblib.load(\"models/scaler.pkl\")\n",
    "\n",
    "# Load best models\n",
    "best_log = joblib.load(\"models/tuned/best_log_reg.pkl\")\n",
    "best_rf = joblib.load(\"models/tuned/best_rf.pkl\")\n",
    "\n",
    "print(\"✅ Best models and scaler loaded successfully\")"
   ]
  }
 ],
 "metadata": {
  "kernelspec": {
   "display_name": "3.12.1",
   "language": "python",
   "name": "python3"
  },
  "language_info": {
   "codemirror_mode": {
    "name": "ipython",
    "version": 3
   },
   "file_extension": ".py",
   "mimetype": "text/x-python",
   "name": "python",
   "nbconvert_exporter": "python",
   "pygments_lexer": "ipython3",
   "version": "3.12.1"
  }
 },
 "nbformat": 4,
 "nbformat_minor": 5
}
