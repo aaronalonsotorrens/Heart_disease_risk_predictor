{
 "cells": [
  {
   "cell_type": "markdown",
   "id": "d8df5593",
   "metadata": {},
   "source": [
    "# 🧪 Notebook 7 — Model Deployment & Inference\n",
    "\n",
    "**Objective:**  \n",
    " \n",
    "Deploy the best model from Notebook 6 (Advanced Experiments) with:\n",
    "\n",
    "- Reproducible inference on new data\n",
    "\n",
    "- Risk bands and simple recommendations\n",
    "\n",
    "- Feature contributions for interpretability\n",
    "\n",
    "- Deployment-ready pipeline\n"
   ]
  },
  {
   "cell_type": "markdown",
   "id": "80c0b716",
   "metadata": {},
   "source": [
    "## 7.1 Load Best Model Pipeline"
   ]
  },
  {
   "cell_type": "code",
   "execution_count": null,
   "id": "b762cebf",
   "metadata": {},
   "outputs": [
    {
     "name": "stdout",
     "output_type": "stream",
     "text": [
      "✅ Loaded best model pipeline from models/deployment/best_model_pipeline.pkl\n"
     ]
    }
   ],
   "source": [
    "import os\n",
    "import joblib\n",
    "import pandas as pd\n",
    "\n",
    "best_model_path = \"models/deployment/best_model_pipeline.pkl\"\n",
    "pipeline_best = joblib.load(best_model_path)\n",
    "print(f\"✅ Loaded best model pipeline from {best_model_path}\")\n"
   ]
  },
  {
   "cell_type": "markdown",
   "id": "4cb2c6ec",
   "metadata": {},
   "source": [
    "## 7.2 Helper Functions for Inference"
   ]
  },
  {
   "cell_type": "code",
   "execution_count": null,
   "id": "9d8fa532",
   "metadata": {},
   "outputs": [],
   "source": [
    "import numpy as np\n",
    "\n",
    "def get_expected_features(model_pipeline):\n",
    "    \"\"\"\n",
    "    Extract original feature names from the pipeline.\n",
    "    \"\"\"\n",
    "    if \"preprocessor\" in model_pipeline.named_steps:\n",
    "        preprocessor = model_pipeline.named_steps[\"preprocessor\"]\n",
    "        if hasattr(preprocessor, \"feature_names_in_\"):\n",
    "            return list(preprocessor.feature_names_in_)\n",
    "    return None\n",
    "\n",
    "def align_input(sample_data: pd.DataFrame, expected_features):\n",
    "    \"\"\"\n",
    "    Align new input to match training schema.\n",
    "    Missing cols -> filled with 0\n",
    "    Extra cols -> dropped\n",
    "    \"\"\"\n",
    "    return sample_data.reindex(columns=expected_features, fill_value=0)\n",
    "\n",
    "def predict_pipeline(model_pipeline, new_data: pd.DataFrame):\n",
    "    \"\"\"\n",
    "    Run inference using a preprocessing + model pipeline.\n",
    "    Returns predicted class and probability.\n",
    "    \"\"\"\n",
    "    pred_class = model_pipeline.predict(new_data)\n",
    "    pred_proba = model_pipeline.predict_proba(new_data)[:, 1]\n",
    "    return pred_class, pred_proba\n",
    "\n",
    "def predict_from_dict(model_pipeline, patient_dict: dict):\n",
    "    \"\"\"\n",
    "    Convenience wrapper: pass patient record as dict.\n",
    "    Auto-aligns to training schema.\n",
    "    \"\"\"\n",
    "    df = pd.DataFrame([patient_dict])\n",
    "    expected_features = get_expected_features(model_pipeline)\n",
    "    if expected_features is not None:\n",
    "        df = align_input(df, expected_features)\n",
    "    return predict_pipeline(model_pipeline, df)\n"
   ]
  },
  {
   "cell_type": "markdown",
   "id": "6c528cde",
   "metadata": {},
   "source": [
    "## 7.3 Enhanced Inference with Risk Bands & Feature Contributions"
   ]
  },
  {
   "cell_type": "code",
   "execution_count": null,
   "id": "27443a54",
   "metadata": {},
   "outputs": [],
   "source": [
    "def risk_band(prob):\n",
    "    \"\"\"Translate probability into Low / Medium / High risk.\"\"\"\n",
    "    if prob < 0.2:\n",
    "        return \"Low\"\n",
    "    elif prob < 0.5:\n",
    "        return \"Medium\"\n",
    "    else:\n",
    "        return \"High\"\n",
    "\n",
    "def enhanced_predict(model_pipeline, new_data: pd.DataFrame, top_n=3):\n",
    "    \"\"\"\n",
    "    Enhanced prediction: class, probability, risk band,\n",
    "    top contributing features, and recommendation.\n",
    "    \"\"\"\n",
    "    # Align features\n",
    "    expected_features = get_expected_features(model_pipeline)\n",
    "    if expected_features is not None:\n",
    "        new_data = align_input(new_data, expected_features)\n",
    "\n",
    "    # Predict class and probability\n",
    "    pred_class = int(model_pipeline.predict(new_data)[0])\n",
    "    pred_proba = float(model_pipeline.predict_proba(new_data)[:, 1][0])\n",
    "    pred_proba_pct = round(pred_proba * 100, 1)  # convert to percentage with 1 decimal\n",
    "    band = risk_band(pred_proba)\n",
    "\n",
    "    # Recommendation\n",
    "    recommendation = (\n",
    "        \"Maintain healthy lifestyle\" if band == \"Low\"\n",
    "        else \"Recommend further testing\"\n",
    "    )\n",
    "\n",
    "    # Feature contributions\n",
    "    preprocessor = model_pipeline.named_steps.get(\"preprocessor\")\n",
    "    feature_names = (\n",
    "        preprocessor.get_feature_names_out()\n",
    "        if hasattr(preprocessor, \"get_feature_names_out\")\n",
    "        else [f\"f{i}\" for i in range(new_data.shape[1])]\n",
    "    )\n",
    "\n",
    "    contributions = None\n",
    "    # Logistic Regression → scaled input × coefficients\n",
    "    if \"log_reg\" in model_pipeline.named_steps:\n",
    "        model = model_pipeline.named_steps[\"log_reg\"]\n",
    "        X_scaled = preprocessor.transform(new_data)\n",
    "        contributions = (X_scaled.toarray() if hasattr(X_scaled, \"toarray\") else X_scaled)[0] * model.coef_[0]\n",
    "\n",
    "    # Tree-based models → approximate with feature importances\n",
    "    elif any(k in model_pipeline.named_steps for k in [\"rf\", \"xgb\", \"lgbm\"]):\n",
    "        model = list(model_pipeline.named_steps.values())[-1]\n",
    "        importances = model.feature_importances_\n",
    "        contributions = importances * pred_proba  # rough approximation\n",
    "\n",
    "    # Build top contributions dataframe\n",
    "    if contributions is not None and len(contributions) == len(feature_names):\n",
    "        contrib_df = pd.DataFrame({\n",
    "            \"Feature\": feature_names,\n",
    "            \"Contribution\": contributions\n",
    "        }).reindex(feature_names)\n",
    "        contrib_df = contrib_df.reindex(contrib_df.Contribution.abs().sort_values(ascending=False).index)\n",
    "        top_contrib = contrib_df.head(top_n)\n",
    "    else:\n",
    "        top_contrib = pd.DataFrame(columns=[\"Feature\", \"Contribution\"])\n",
    "\n",
    "    return {\n",
    "        \"Prediction\": pred_class,\n",
    "        \"Probability\": pred_proba_pct,  # now in %\n",
    "        \"Risk Band\": band,\n",
    "        \"Recommendation\": recommendation,\n",
    "        \"Top Contributions\": top_contrib\n",
    "    }\n"
   ]
  },
  {
   "cell_type": "markdown",
   "id": "b43b5463",
   "metadata": {},
   "source": [
    "## 7.4 Test Enhanced Inference with Sample Patient"
   ]
  },
  {
   "cell_type": "code",
   "execution_count": null,
   "id": "8fcad2ac",
   "metadata": {},
   "outputs": [
    {
     "name": "stdout",
     "output_type": "stream",
     "text": [
      "🔹 Best Model Enhanced Prediction\n",
      "Prediction: 0\n",
      "Probability: 44.7\n",
      "Risk Band: Medium\n",
      "Recommendation: Recommend further testing\n",
      "🔹 High-Risk Patient Prediction\n",
      "Prediction: 1\n",
      "Probability: 51.4 %\n",
      "Risk Band: High\n",
      "Recommendation: Recommend further testing\n",
      "Top Contributions:\n",
      "               Feature  Contribution\n",
      "num__id           NaN           NaN\n",
      "num__age          NaN           NaN\n",
      "num__trestbps     NaN           NaN\n"
     ]
    }
   ],
   "source": [
    "# Example patient\n",
    "sample_patient = {\n",
    "    \"age\": 55,\n",
    "    \"sex\": 1,\n",
    "    \"cp\": 3,\n",
    "    \"trestbps\": 240,\n",
    "    \"chol\": 220,\n",
    "    \"fbs\": 0,\n",
    "    \"restecg\": 1,\n",
    "    \"thalch\": 150,\n",
    "    \"exang\": 0,\n",
    "    \"oldpeak\": 1.5,\n",
    "}\n",
    "\n",
    "sample_df = pd.DataFrame([sample_patient])\n",
    "result = enhanced_predict(pipeline_best, sample_df)\n",
    "\n",
    "print(\"🔹 Best Model Enhanced Prediction\")\n",
    "print(\"Prediction:\", result[\"Prediction\"])\n",
    "print(\"Probability:\", result[\"Probability\"])\n",
    "print(\"Risk Band:\", result[\"Risk Band\"])\n",
    "print(\"Recommendation:\", result[\"Recommendation\"])\n",
    "\n",
    "\n",
    "high_risk_patient = {\n",
    "    \"age\": 68,\n",
    "    \"sex\": 1,          # male\n",
    "    \"cp\": 4,           # typical angina\n",
    "    \"trestbps\": 180,   # high resting blood pressure\n",
    "    \"chol\": 300,       # high cholesterol\n",
    "    \"fbs\": 1,          # fasting blood sugar > 120 mg/dl\n",
    "    \"restecg\": 2,      # abnormal ECG\n",
    "    \"thalch\": 120,     # low max heart rate achieved\n",
    "    \"exang\": 1,        # exercise-induced angina\n",
    "    \"oldpeak\": 3.0     # ST depression\n",
    "}\n",
    "\n",
    "high_risk_df = pd.DataFrame([high_risk_patient])\n",
    "result_high = enhanced_predict(pipeline_best, high_risk_df)\n",
    "\n",
    "print(\"🔹 High-Risk Patient Prediction\")\n",
    "print(\"Prediction:\", result_high[\"Prediction\"])\n",
    "print(\"Probability:\", result_high[\"Probability\"], \"%\")\n",
    "print(\"Risk Band:\", result_high[\"Risk Band\"])\n",
    "print(\"Recommendation:\", result_high[\"Recommendation\"])\n",
    "print(\"Top Contributions:\\n\", result_high[\"Top Contributions\"])\n"
   ]
  },
  {
   "cell_type": "markdown",
   "id": "fa8e8ced",
   "metadata": {},
   "source": [
    "## 7.5 Save Deployment Pipeline (optional backup)"
   ]
  },
  {
   "cell_type": "code",
   "execution_count": null,
   "id": "438fdbf8",
   "metadata": {},
   "outputs": [],
   "source": [
    "os.makedirs(\"models/deployment\", exist_ok=True)\n",
    "joblib.dump(pipeline_best, \"models/deployment/best_model_pipeline.pkl\")\n",
    "print(\"✅ Best model pipeline saved for deployment.\")\n"
   ]
  }
 ],
 "metadata": {
  "kernelspec": {
   "display_name": "3.12.1",
   "language": "python",
   "name": "python3"
  },
  "language_info": {
   "codemirror_mode": {
    "name": "ipython",
    "version": 3
   },
   "file_extension": ".py",
   "mimetype": "text/x-python",
   "name": "python",
   "nbconvert_exporter": "python",
   "pygments_lexer": "ipython3",
   "version": "3.12.1"
  }
 },
 "nbformat": 4,
 "nbformat_minor": 5
}
