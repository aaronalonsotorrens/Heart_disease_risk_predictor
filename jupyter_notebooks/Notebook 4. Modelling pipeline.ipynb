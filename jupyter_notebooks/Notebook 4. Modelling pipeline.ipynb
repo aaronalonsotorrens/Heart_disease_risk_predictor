{
 "cells": [
  {
   "cell_type": "markdown",
   "id": "e82f1c53",
   "metadata": {},
   "source": [
    "# 🧠 Notebook 4 — Modelling Pipeline\n",
    "\n",
    "This notebook is where we begin the **machine learning stage** of our project.\n",
    "  \n",
    "After cleaning and preprocessing in Notebooks 2 & 3, we now focus on:\n",
    "\n",
    " 1. Preparing the dataset for machine learning (splitting and scaling).\n",
    "   \n",
    " 2. Training baseline models (Logistic Regression and Random Forest).\n",
    "   \n",
    " 3. Evaluating the models using multiple metrics.\n",
    "   \n",
    " 4. Selecting and saving the best model for deployment.\n",
    "\n",
    "The goal is to establish **baseline performance** and understand which type of\n",
    "\n",
    "model works best on this dataset."
   ]
  },
  {
   "cell_type": "markdown",
   "id": "ba4dc43c",
   "metadata": {},
   "source": [
    "---"
   ]
  },
  {
   "cell_type": "markdown",
   "id": "6ca79d5b",
   "metadata": {},
   "source": [
    "## 4.1 Import Libraries\n",
    "\n",
    "Here we import all the required libraries:\n",
    "\n",
    "- **pandas, numpy** → manage structured data and numerical operations.\n",
    "  \n",
    "- **matplotlib, seaborn** → visualization for model evaluation.\n",
    "  \n",
    "- **scikit-learn (sklearn)** → main ML toolkit for splitting, preprocessing, \n",
    "  =  training, and evaluation.\n",
    "\n",
    "- **joblib** → saving and reloading models/scalers for deployment.\n",
    "\n",
    "Together, these libraries form the standard ML stack in Python projects."
   ]
  },
  {
   "cell_type": "code",
   "execution_count": 18,
   "id": "121b33b7",
   "metadata": {},
   "outputs": [],
   "source": [
    "import pandas as pd\n",
    "import numpy as np\n",
    "\n",
    "import matplotlib.pyplot as plt\n",
    "import seaborn as sns\n",
    "\n",
    "from sklearn.model_selection import train_test_split\n",
    "from sklearn.preprocessing import StandardScaler\n",
    "from sklearn.linear_model import LogisticRegression\n",
    "from sklearn.ensemble import RandomForestClassifier\n",
    "from sklearn.metrics import (\n",
    "    accuracy_score, precision_score, recall_score, f1_score,\n",
    "    roc_auc_score, classification_report, confusion_matrix, RocCurveDisplay\n",
    ")\n",
    "import joblib"
   ]
  },
  {
   "cell_type": "markdown",
   "id": "f2697d91",
   "metadata": {},
   "source": [
    "---"
   ]
  },
  {
   "cell_type": "markdown",
   "id": "b42b6f80",
   "metadata": {},
   "source": [
    "## 4.2 Load Dataset\n",
    "\n",
    "We now load the **cleaned dataset** from Notebook 3.\n",
    "\n",
    "- This ensures all cleaning and preprocessing steps are applied consistently.\n",
    "  \n",
    "- It prevents **data leakage** (where information from the test set influences training).\n",
    "  \n",
    "- The dataset we load here is \"ready-to-use\" for machine learning."
   ]
  },
  {
   "cell_type": "code",
   "execution_count": 19,
   "id": "8f4b847c",
   "metadata": {},
   "outputs": [
    {
     "name": "stdout",
     "output_type": "stream",
     "text": [
      "['id', 'age', 'trestbps', 'chol', 'fbs', 'thalch', 'exang', 'oldpeak', 'sex_Male', 'dataset_Hungary', 'dataset_Switzerland', 'dataset_VA Long Beach', 'cp_atypical angina', 'cp_non-anginal', 'cp_typical angina', 'restecg_normal', 'restecg_st-t abnormality', 'HeartDisease', 'num']\n",
      "   id  age  trestbps   chol    fbs  thalch  exang  oldpeak  sex_Male  \\\n",
      "0   1   63     145.0  233.0   True   150.0  False      2.3      True   \n",
      "1   2   67     160.0  286.0  False   108.0   True      1.5      True   \n",
      "2   3   67     120.0  229.0  False   129.0   True      2.6      True   \n",
      "3   4   37     130.0  250.0  False   187.0  False      3.5      True   \n",
      "4   5   41     130.0  204.0  False   172.0  False      1.4     False   \n",
      "\n",
      "   dataset_Hungary  dataset_Switzerland  dataset_VA Long Beach  \\\n",
      "0            False                False                  False   \n",
      "1            False                False                  False   \n",
      "2            False                False                  False   \n",
      "3            False                False                  False   \n",
      "4            False                False                  False   \n",
      "\n",
      "   cp_atypical angina  cp_non-anginal  cp_typical angina  restecg_normal  \\\n",
      "0               False           False               True           False   \n",
      "1               False           False              False           False   \n",
      "2               False           False              False           False   \n",
      "3               False            True              False            True   \n",
      "4                True           False              False           False   \n",
      "\n",
      "   restecg_st-t abnormality  HeartDisease  num  \n",
      "0                     False             0    0  \n",
      "1                     False             1    2  \n",
      "2                     False             1    1  \n",
      "3                     False             0    0  \n",
      "4                     False             0    0  \n",
      "✅ The dataset has 920 rows and 19 columns.\n"
     ]
    }
   ],
   "source": [
    "df = pd.read_csv('outputs/datasets/cleaned/heart_disease_cleaned.csv')\n",
    "print(df.columns.tolist())   # see all column names\n",
    "print(df.head())  \n",
    "\n",
    "rows, cols = df.shape\n",
    "print(f\"✅ The dataset has {rows} rows and {cols} columns.\")\n"
   ]
  },
  {
   "cell_type": "markdown",
   "id": "e4f8b39b",
   "metadata": {},
   "source": [
    "---"
   ]
  },
  {
   "cell_type": "markdown",
   "id": "da682e46",
   "metadata": {},
   "source": [
    "## 4.3 Define Features and Target\n",
    "\n",
    "Machine learning models need:\n",
    "\n",
    "- **Features (X):** patient health indicators (age, cholesterol, etc.)\n",
    "  \n",
    "- **Target (y):** the outcome we want to predict (`HeartDisease`).\n",
    "\n",
    "Separating X and y makes the problem explicit:\n",
    "\n",
    "*\"Given these features, can the model predict heart disease?\"*"
   ]
  },
  {
   "cell_type": "code",
   "execution_count": 27,
   "id": "94541494",
   "metadata": {},
   "outputs": [
    {
     "data": {
      "image/png": "[encoded data removed]",
      "text/plain": [
       "<Figure size 640x480 with 1 Axes>"
      ]
     },
     "metadata": {},
     "output_type": "display_data"
    }
   ],
   "source": [
    "# Distribution of HeartDisease\n",
    "import seaborn as sns\n",
    "import matplotlib.pyplot as plt\n",
    "\n",
    "X = df.drop(\"HeartDisease\", axis=1)\n",
    "y = df[\"HeartDisease\"]\n",
    "\n",
    "sns.countplot(x=y)\n",
    "plt.title(\"Distribution of Heart Disease (Target)\")\n",
    "plt.show()\n",
    "\n"
   ]
  },
  {
   "cell_type": "markdown",
   "id": "53602905",
   "metadata": {},
   "source": [
    "---"
   ]
  },
  {
   "cell_type": "markdown",
   "id": "6f106a5e",
   "metadata": {},
   "source": [
    "## 4.4 Split Data\n",
    "\n",
    "To evaluate fairly, we split the dataset into **independent subsets**:\n",
    "\n",
    "- **Training set (70%)** → used to train the model.\n",
    "  \n",
    "- **Validation set (15%)** → used to tune and compare models.\n",
    "  \n",
    "- **Test set (15%)** → kept aside until the end, simulating \"new\" unseen data.\n",
    "\n",
    "This ensures we avoid **overfitting** and get a realistic picture of performance.\n",
    "\n",
    "We also use `stratify=y` to preserve the class balance across all splits."
   ]
  },
  {
   "cell_type": "code",
   "execution_count": 28,
   "id": "3669cdae",
   "metadata": {},
   "outputs": [
    {
     "name": "stdout",
     "output_type": "stream",
     "text": [
      "Train size: (644, 18)\n",
      "Validation size: (138, 18)\n",
      "Test size: (138, 18)\n"
     ]
    }
   ],
   "source": [
    "X_train, X_temp, y_train, y_temp = train_test_split(\n",
    "    X, y, test_size=0.3, random_state=42, stratify=y\n",
    ")\n",
    "X_val, X_test, y_val, y_test = train_test_split(\n",
    "    X_temp, y_temp, test_size=0.5, random_state=42, stratify=y_temp\n",
    ")\n",
    "\n",
    "print(\"Train size:\", X_train.shape)\n",
    "print(\"Validation size:\", X_val.shape)\n",
    "print(\"Test size:\", X_test.shape)"
   ]
  },
  {
   "cell_type": "markdown",
   "id": "187b75e8",
   "metadata": {},
   "source": [
    "---"
   ]
  },
  {
   "cell_type": "markdown",
   "id": "38043ce2",
   "metadata": {},
   "source": [
    "## 4.5 Feature Scaling\n",
    "\n",
    "Some algorithms (like Logistic Regression, KNN, or SVM) are sensitive to\n",
    "\n",
    "differences in feature scales. For example:\n",
    "\n",
    " - Cholesterol might range from 100–400\n",
    "  \n",
    " - Age might range from 30–80\n",
    "\n",
    " If left unscaled, features with larger ranges dominate the model.\n",
    "\n",
    " We therefore:\n",
    "\n",
    " - Fit a **StandardScaler** on the training set.\n",
    "  \n",
    " - Apply the same transformation to validation and test sets.\n",
    "\n",
    "Note: Random Forests are tree-based and do **not** need scaling,\n",
    "\n",
    "but we still scale for consistency across models."
   ]
  },
  {
   "cell_type": "code",
   "execution_count": 31,
   "id": "020f4b42",
   "metadata": {},
   "outputs": [
    {
     "name": "stdout",
     "output_type": "stream",
     "text": [
      "✅ Scaler saved to models/scaler.pkl\n"
     ]
    },
    {
     "data": {
      "text/plain": [
       "['models/scaler.pkl']"
      ]
     },
     "execution_count": 31,
     "metadata": {},
     "output_type": "execute_result"
    }
   ],
   "source": [
    "import os\n",
    "import joblib\n",
    "\n",
    "# Create models folder if it doesn't exist\n",
    "os.makedirs(\"models\", exist_ok=True)\n",
    "\n",
    "# Save scaler\n",
    "joblib.dump(scaler, \"models/scaler.pkl\")\n",
    "print(\"✅ Scaler saved to models/scaler.pkl\")\n",
    "\n",
    "\n",
    "scaler = StandardScaler()\n",
    "X_train_scaled = scaler.fit_transform(X_train)\n",
    "X_val_scaled = scaler.transform(X_val)\n",
    "X_test_scaled = scaler.transform(X_test)\n",
    "\n",
    "# Save scaler for later deployment\n",
    "joblib.dump(scaler, \"models/scaler.pkl\")"
   ]
  },
  {
   "cell_type": "code",
   "execution_count": null,
   "id": "55b3196c",
   "metadata": {},
   "outputs": [],
   "source": []
  },
  {
   "cell_type": "code",
   "execution_count": null,
   "id": "64154d3d",
   "metadata": {},
   "outputs": [],
   "source": []
  }
 ],
 "metadata": {
  "kernelspec": {
   "display_name": "3.12.1",
   "language": "python",
   "name": "python3"
  },
  "language_info": {
   "codemirror_mode": {
    "name": "ipython",
    "version": 3
   },
   "file_extension": ".py",
   "mimetype": "text/x-python",
   "name": "python",
   "nbconvert_exporter": "python",
   "pygments_lexer": "ipython3",
   "version": "3.12.1"
  }
 },
 "nbformat": 4,
 "nbformat_minor": 5
}
