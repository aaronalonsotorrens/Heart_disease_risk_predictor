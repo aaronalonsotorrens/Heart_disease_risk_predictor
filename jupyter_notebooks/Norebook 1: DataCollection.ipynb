{
  "cells": [
    {
      "cell_type": "markdown",
      "metadata": {},
      "source": [
        "# Notebook 1: Data Collection (Heart Disease Dataset)\n",
        "\n",
        "This notebook handles **data acquisition and initial inspection** of the Heart Disease dataset from Kaggle.  \n",
        "\n",
        "Establishing a reliable data source and saving it in a structured folder ensures reproducibility and a consistent \n",
        "\n",
        "workflow for later notebooks.  \n",
        "\n",
        "\n",
        "\n",
        "## Objectives\n",
        "\n",
        "- **Fetch data** from Kaggle and save it as raw data.  \n",
        "  \n",
        "- **Inspect dataset structure** (variables, types, missing values, duplicates).  \n",
        "  \n",
        "- **Save inspected data** under `outputs/datasets/collection/` for reuse.  \n",
        "\n",
        "\n",
        "\n",
        "## Inputs\n",
        "\n",
        "- **Kaggle JSON file** (authentication token).  \n",
        "  \n",
        "- **Kaggle dataset**: [Heart Disease Dataset](https://www.kaggle.com/datasets/redwankarimsony/heart-disease-data).  \n",
        "\n",
        "\n",
        "\n",
        "## Outputs\n",
        "\n",
        "- `inputs/datasets/raw/heart_disease_uci.csv` — raw dataset from Kaggle. \n",
        "   \n",
        "- `outputs/datasets/collection/heart_disease_inspected.csv` — inspected dataset.  \n",
        "  \n",
        "- `outputs/figures/missing_values_heatmap.png` — quick visualization of missing values.  \n"
      ]
    },
    {
      "cell_type": "markdown",
      "metadata": {
        "id": "9uWZXH9LwoQg"
      },
      "source": [
        "---"
      ]
    },
    {
      "cell_type": "markdown",
      "metadata": {
        "id": "cqP-UeN-z3i2"
      },
      "source": [
        "## Step 1 — Change Working Directory\n",
        "\n",
        "**Purpose**  \n",
        "\n",
        "Ensure the notebook runs correctly regardless of where it is executed.  \n",
        "\n",
        "We standardize the working directory so relative file paths work consistently.  \n",
        "\n",
        "**Approach**  \n",
        "\n",
        "- Get the current working directory with `os.getcwd()`.  \n",
        "  \n",
        "- Move one level up to the project root using `os.path.dirname()`.  \n",
        "  \n",
        "- Confirm the new working directory.  \n",
        "\n",
        "**Expected Outcome**  \n",
        "\n",
        "The notebook always points to the project’s root directory, ensuring clean and reproducible file handling.  "
      ]
    },
    {
      "cell_type": "code",
      "execution_count": 1,
      "metadata": {
        "id": "wZfF_j-Bz3i4",
        "outputId": "66943449-1436-4c3d-85c7-b85f9f78349b"
      },
      "outputs": [
        {
          "data": {
            "text/plain": [
              "'/workspaces/Heart_disease_risk_predictor/jupyter_notebooks'"
            ]
          },
          "execution_count": 1,
          "metadata": {},
          "output_type": "execute_result"
        }
      ],
      "source": [
        "import os\n",
        "current_dir = os.getcwd()\n",
        "current_dir"
      ]
    },
    {
      "cell_type": "markdown",
      "metadata": {
        "id": "9MWW8E7lz3i7"
      },
      "source": [
        "We want to make the parent of the current directory the new current directory\n",
        "* os.path.dirname() gets the parent directory\n",
        "* os.chir() defines the new current directory"
      ]
    },
    {
      "cell_type": "code",
      "execution_count": 2,
      "metadata": {
        "id": "TwHsQRWjz3i9",
        "outputId": "86849db3-cd2f-4cc5-ebb8-2d0caafa1a2c"
      },
      "outputs": [
        {
          "name": "stdout",
          "output_type": "stream",
          "text": [
            "You set a new current directory\n"
          ]
        }
      ],
      "source": [
        "os.chdir(os.path.dirname(current_dir))\n",
        "print(\"You set a new current directory\")"
      ]
    },
    {
      "cell_type": "markdown",
      "metadata": {
        "id": "M_xPk_Ijz3i-"
      },
      "source": [
        "Confirm the new current directory"
      ]
    },
    {
      "cell_type": "code",
      "execution_count": 3,
      "metadata": {
        "id": "vz3S-_kjz3jA",
        "outputId": "00b79ae4-75d0-4a96-d193-ac9ef9847ea2"
      },
      "outputs": [
        {
          "data": {
            "text/plain": [
              "'/workspaces/Heart_disease_risk_predictor'"
            ]
          },
          "execution_count": 3,
          "metadata": {},
          "output_type": "execute_result"
        }
      ],
      "source": [
        "current_dir = os.getcwd()\n",
        "current_dir"
      ]
    },
    {
      "cell_type": "markdown",
      "metadata": {},
      "source": [
        "---"
      ]
    },
    {
      "cell_type": "markdown",
      "metadata": {
        "id": "-mavJ8DibrcQ"
      },
      "source": [
        "## Step 1.1 — Fetch Data from Kaggle\n",
        "\n",
        "We now download the dataset from Kaggle using the Kaggle API.  \n",
        "\n",
        "**Purpose**  \n",
        "\n",
        "Automate dataset acquisition so any collaborator can reproduce results by simply running this notebook.  \n",
        "\n",
        "**Approach**  \n",
        "\n",
        "1. Install the `kaggle` package.  \n",
        "   \n",
        "2. Authenticate with the Kaggle token (`kaggle.json`). \n",
        "    \n",
        "3. Define dataset path (`redwankarimsony/heart-disease-data`) and download it into `inputs/datasets/raw/`.  \n",
        "   \n",
        "4. Unzip the downloaded file and remove temporary files.  \n",
        "\n",
        "**Expected Outcome**  \n",
        "\n",
        "The raw dataset `heart_disease_uci.csv` is saved in the `inputs/datasets/raw/` folder, ready for inspection.  \n"
      ]
    },
    {
      "cell_type": "code",
      "execution_count": 4,
      "metadata": {},
      "outputs": [
        {
          "name": "stdout",
          "output_type": "stream",
          "text": [
            "Requirement already satisfied: kaggle==1.5.12 in /home/cistudent/.local/lib/python3.12/site-packages (1.5.12)\n",
            "Requirement already satisfied: six>=1.10 in /home/cistudent/.pyenv/versions/3.12.1/lib/python3.12/site-packages (from kaggle==1.5.12) (1.17.0)\n",
            "Requirement already satisfied: certifi in /home/cistudent/.pyenv/versions/3.12.1/lib/python3.12/site-packages (from kaggle==1.5.12) (2024.12.14)\n",
            "Requirement already satisfied: python-dateutil in /home/cistudent/.pyenv/versions/3.12.1/lib/python3.12/site-packages (from kaggle==1.5.12) (2.9.0.post0)\n",
            "Requirement already satisfied: requests in /home/cistudent/.pyenv/versions/3.12.1/lib/python3.12/site-packages (from kaggle==1.5.12) (2.32.3)\n",
            "Requirement already satisfied: tqdm in /home/cistudent/.local/lib/python3.12/site-packages (from kaggle==1.5.12) (4.67.1)\n",
            "Requirement already satisfied: python-slugify in /home/cistudent/.local/lib/python3.12/site-packages (from kaggle==1.5.12) (8.0.4)\n",
            "Requirement already satisfied: urllib3 in /home/cistudent/.pyenv/versions/3.12.1/lib/python3.12/site-packages (from kaggle==1.5.12) (2.2.3)\n",
            "Requirement already satisfied: text-unidecode>=1.3 in /home/cistudent/.local/lib/python3.12/site-packages (from python-slugify->kaggle==1.5.12) (1.3)\n",
            "Requirement already satisfied: charset-normalizer<4,>=2 in /home/cistudent/.pyenv/versions/3.12.1/lib/python3.12/site-packages (from requests->kaggle==1.5.12) (3.4.0)\n",
            "Requirement already satisfied: idna<4,>=2.5 in /home/cistudent/.pyenv/versions/3.12.1/lib/python3.12/site-packages (from requests->kaggle==1.5.12) (3.10)\n",
            "\n",
            "\u001b[1m[\u001b[0m\u001b[34;49mnotice\u001b[0m\u001b[1;39;49m]\u001b[0m\u001b[39;49m A new release of pip is available: \u001b[0m\u001b[31;49m24.3.1\u001b[0m\u001b[39;49m -> \u001b[0m\u001b[32;49m25.2\u001b[0m\n",
            "\u001b[1m[\u001b[0m\u001b[34;49mnotice\u001b[0m\u001b[1;39;49m]\u001b[0m\u001b[39;49m To update, run: \u001b[0m\u001b[32;49mpip install --upgrade pip\u001b[0m\n",
            "Note: you may need to restart the kernel to use updated packages.\n"
          ]
        }
      ],
      "source": [
        "%pip install kaggle==1.5.12"
      ]
    },
    {
      "cell_type": "markdown",
      "metadata": {},
      "source": [
        "Once you do that run the cell below, so the token is recognised in the session"
      ]
    },
    {
      "cell_type": "code",
      "execution_count": 5,
      "metadata": {},
      "outputs": [
        {
          "name": "stdout",
          "output_type": "stream",
          "text": [
            "chmod: cannot access 'kaggle.json': No such file or directory\n"
          ]
        }
      ],
      "source": [
        "import os\n",
        "os.environ['KAGGLE_CONFIG_DIR'] = os.getcwd()\n",
        "! chmod 600 kaggle.json"
      ]
    },
    {
      "cell_type": "markdown",
      "metadata": {},
      "source": [
        "We are using the following [Kaggle URL](https://www.kaggle.com/datasets/johnsmith88/heart-disease-dataset)"
      ]
    },
    {
      "cell_type": "markdown",
      "metadata": {},
      "source": [
        "Get the dataset path from the Kaggle url\n",
        "* When you are viewing the dataset at Kaggle, check what is after https://www.kaggle.com/ ."
      ]
    },
    {
      "cell_type": "markdown",
      "metadata": {},
      "source": [
        "Define the Kaggle dataset, and destination folder and download it."
      ]
    },
    {
      "cell_type": "code",
      "execution_count": 6,
      "metadata": {},
      "outputs": [
        {
          "name": "stdout",
          "output_type": "stream",
          "text": [
            "Traceback (most recent call last):\n",
            "  File \"/home/cistudent/.local/bin/kaggle\", line 5, in <module>\n",
            "    from kaggle.cli import main\n",
            "  File \"/home/cistudent/.local/lib/python3.12/site-packages/kaggle/__init__.py\", line 23, in <module>\n",
            "    api.authenticate()\n",
            "  File \"/home/cistudent/.local/lib/python3.12/site-packages/kaggle/api/kaggle_api_extended.py\", line 164, in authenticate\n",
            "    raise IOError('Could not find {}. Make sure it\\'s located in'\n",
            "OSError: Could not find kaggle.json. Make sure it's located in /workspaces/Heart_disease_risk_predictor. Or use the environment method.\n"
          ]
        }
      ],
      "source": [
        "KaggleDatasetPath = \"redwankarimsony/heart-disease-data\"\n",
        "DestinationFolder = \"inputs/datasets/raw\"   \n",
        "! kaggle datasets download -d {KaggleDatasetPath} -p {DestinationFolder}"
      ]
    },
    {
      "cell_type": "markdown",
      "metadata": {},
      "source": [
        "Unzip the downloaded file, delete the zip file and delete the kaggle.json file"
      ]
    },
    {
      "cell_type": "code",
      "execution_count": 7,
      "metadata": {},
      "outputs": [
        {
          "name": "stdout",
          "output_type": "stream",
          "text": [
            "unzip:  cannot find or open inputs/datasets/raw/*.zip, inputs/datasets/raw/*.zip.zip or inputs/datasets/raw/*.zip.ZIP.\n",
            "\n",
            "No zipfiles found.\n"
          ]
        }
      ],
      "source": [
        "! unzip {DestinationFolder}/*.zip -d {DestinationFolder} \\\n",
        "  && rm {DestinationFolder}/*.zip \\\n",
        "  && rm kaggle.json"
      ]
    },
    {
      "cell_type": "markdown",
      "metadata": {
        "id": "ZY3l0-AxO93d"
      },
      "source": [
        "---"
      ]
    },
    {
      "cell_type": "markdown",
      "metadata": {
        "id": "uFQo3ycuO-v6"
      },
      "source": [
        "## Step 1.2 — Load and Inspect Dataset\n",
        "\n",
        "**Purpose** \n",
        "\n",
        "Confirm the dataset has been downloaded correctly and understand its structure.  \n",
        "\n",
        "**Approach**  \n",
        "\n",
        "- Load the CSV file into a pandas DataFrame.  \n",
        "  \n",
        "- Preview the first few rows.  \n",
        "  \n",
        "- Document dataset variables with human-readable definitions.  \n",
        "\n",
        "**Expected Outcome**  \n",
        "\n",
        "A loaded dataset that matches expectations, with each column clearly defined for easier interpretation in future \n",
        "\n",
        "notebooks.  "
      ]
    },
    {
      "cell_type": "code",
      "execution_count": 8,
      "metadata": {},
      "outputs": [
        {
          "name": "stdout",
          "output_type": "stream",
          "text": [
            "Dataset loaded successfully! First 5 rows of dataset:\n"
          ]
        },
        {
          "data": {
            "text/html": [
              "<div>\n",
              "<style scoped>\n",
              "    .dataframe tbody tr th:only-of-type {\n",
              "        vertical-align: middle;\n",
              "    }\n",
              "\n",
              "    .dataframe tbody tr th {\n",
              "        vertical-align: top;\n",
              "    }\n",
              "\n",
              "    .dataframe thead th {\n",
              "        text-align: right;\n",
              "    }\n",
              "</style>\n",
              "<table border=\"1\" class=\"dataframe\">\n",
              "  <thead>\n",
              "    <tr style=\"text-align: right;\">\n",
              "      <th></th>\n",
              "      <th>id</th>\n",
              "      <th>age</th>\n",
              "      <th>sex</th>\n",
              "      <th>dataset</th>\n",
              "      <th>cp</th>\n",
              "      <th>trestbps</th>\n",
              "      <th>chol</th>\n",
              "      <th>fbs</th>\n",
              "      <th>restecg</th>\n",
              "      <th>thalch</th>\n",
              "      <th>exang</th>\n",
              "      <th>oldpeak</th>\n",
              "      <th>slope</th>\n",
              "      <th>ca</th>\n",
              "      <th>thal</th>\n",
              "      <th>num</th>\n",
              "    </tr>\n",
              "  </thead>\n",
              "  <tbody>\n",
              "    <tr>\n",
              "      <th>0</th>\n",
              "      <td>1</td>\n",
              "      <td>63</td>\n",
              "      <td>Male</td>\n",
              "      <td>Cleveland</td>\n",
              "      <td>typical angina</td>\n",
              "      <td>145.0</td>\n",
              "      <td>233.0</td>\n",
              "      <td>True</td>\n",
              "      <td>lv hypertrophy</td>\n",
              "      <td>150.0</td>\n",
              "      <td>False</td>\n",
              "      <td>2.3</td>\n",
              "      <td>downsloping</td>\n",
              "      <td>0.0</td>\n",
              "      <td>fixed defect</td>\n",
              "      <td>0</td>\n",
              "    </tr>\n",
              "    <tr>\n",
              "      <th>1</th>\n",
              "      <td>2</td>\n",
              "      <td>67</td>\n",
              "      <td>Male</td>\n",
              "      <td>Cleveland</td>\n",
              "      <td>asymptomatic</td>\n",
              "      <td>160.0</td>\n",
              "      <td>286.0</td>\n",
              "      <td>False</td>\n",
              "      <td>lv hypertrophy</td>\n",
              "      <td>108.0</td>\n",
              "      <td>True</td>\n",
              "      <td>1.5</td>\n",
              "      <td>flat</td>\n",
              "      <td>3.0</td>\n",
              "      <td>normal</td>\n",
              "      <td>2</td>\n",
              "    </tr>\n",
              "    <tr>\n",
              "      <th>2</th>\n",
              "      <td>3</td>\n",
              "      <td>67</td>\n",
              "      <td>Male</td>\n",
              "      <td>Cleveland</td>\n",
              "      <td>asymptomatic</td>\n",
              "      <td>120.0</td>\n",
              "      <td>229.0</td>\n",
              "      <td>False</td>\n",
              "      <td>lv hypertrophy</td>\n",
              "      <td>129.0</td>\n",
              "      <td>True</td>\n",
              "      <td>2.6</td>\n",
              "      <td>flat</td>\n",
              "      <td>2.0</td>\n",
              "      <td>reversable defect</td>\n",
              "      <td>1</td>\n",
              "    </tr>\n",
              "    <tr>\n",
              "      <th>3</th>\n",
              "      <td>4</td>\n",
              "      <td>37</td>\n",
              "      <td>Male</td>\n",
              "      <td>Cleveland</td>\n",
              "      <td>non-anginal</td>\n",
              "      <td>130.0</td>\n",
              "      <td>250.0</td>\n",
              "      <td>False</td>\n",
              "      <td>normal</td>\n",
              "      <td>187.0</td>\n",
              "      <td>False</td>\n",
              "      <td>3.5</td>\n",
              "      <td>downsloping</td>\n",
              "      <td>0.0</td>\n",
              "      <td>normal</td>\n",
              "      <td>0</td>\n",
              "    </tr>\n",
              "    <tr>\n",
              "      <th>4</th>\n",
              "      <td>5</td>\n",
              "      <td>41</td>\n",
              "      <td>Female</td>\n",
              "      <td>Cleveland</td>\n",
              "      <td>atypical angina</td>\n",
              "      <td>130.0</td>\n",
              "      <td>204.0</td>\n",
              "      <td>False</td>\n",
              "      <td>lv hypertrophy</td>\n",
              "      <td>172.0</td>\n",
              "      <td>False</td>\n",
              "      <td>1.4</td>\n",
              "      <td>upsloping</td>\n",
              "      <td>0.0</td>\n",
              "      <td>normal</td>\n",
              "      <td>0</td>\n",
              "    </tr>\n",
              "  </tbody>\n",
              "</table>\n",
              "</div>"
            ],
            "text/plain": [
              "   id  age     sex    dataset               cp  trestbps   chol    fbs  \\\n",
              "0   1   63    Male  Cleveland   typical angina     145.0  233.0   True   \n",
              "1   2   67    Male  Cleveland     asymptomatic     160.0  286.0  False   \n",
              "2   3   67    Male  Cleveland     asymptomatic     120.0  229.0  False   \n",
              "3   4   37    Male  Cleveland      non-anginal     130.0  250.0  False   \n",
              "4   5   41  Female  Cleveland  atypical angina     130.0  204.0  False   \n",
              "\n",
              "          restecg  thalch  exang  oldpeak        slope   ca  \\\n",
              "0  lv hypertrophy   150.0  False      2.3  downsloping  0.0   \n",
              "1  lv hypertrophy   108.0   True      1.5         flat  3.0   \n",
              "2  lv hypertrophy   129.0   True      2.6         flat  2.0   \n",
              "3          normal   187.0  False      3.5  downsloping  0.0   \n",
              "4  lv hypertrophy   172.0  False      1.4    upsloping  0.0   \n",
              "\n",
              "                thal  num  \n",
              "0       fixed defect    0  \n",
              "1             normal    2  \n",
              "2  reversable defect    1  \n",
              "3             normal    0  \n",
              "4             normal    0  "
            ]
          },
          "metadata": {},
          "output_type": "display_data"
        }
      ],
      "source": [
        "import pandas as pd\n",
        "\n",
        "# Load heart disease data\n",
        "data_path = \"/workspaces/Heart_disease_risk_predictor/inputs/datasets/raw/heart_disease_uci.csv\"\n",
        "df = pd.read_csv(data_path)\n",
        "\n",
        "# Show first 5 rows\n",
        "print(\"Dataset loaded successfully! First 5 rows of dataset:\")\n",
        "display(df.head())"
      ]
    },
    {
      "cell_type": "markdown",
      "metadata": {},
      "source": [
        "---\n",
        "\n",
        "## 1.3. Dataset Variable Definitions\n",
        "\n",
        "The dataset columns are abbreviated; here we provide definitions for clarity. \n",
        "\n",
        "This dictionary serves as documentation for anyone using the dataset.  "
      ]
    },
    {
      "cell_type": "code",
      "execution_count": 9,
      "metadata": {},
      "outputs": [
        {
          "data": {
            "text/html": [
              "<style type=\"text/css\">\n",
              "#T_55a1a_row0_col0, #T_55a1a_row0_col1, #T_55a1a_row1_col0, #T_55a1a_row1_col1, #T_55a1a_row2_col0, #T_55a1a_row2_col1, #T_55a1a_row3_col0, #T_55a1a_row3_col1, #T_55a1a_row4_col0, #T_55a1a_row4_col1, #T_55a1a_row5_col0, #T_55a1a_row5_col1, #T_55a1a_row6_col0, #T_55a1a_row6_col1, #T_55a1a_row7_col0, #T_55a1a_row7_col1, #T_55a1a_row8_col0, #T_55a1a_row8_col1, #T_55a1a_row9_col0, #T_55a1a_row9_col1, #T_55a1a_row10_col0, #T_55a1a_row10_col1, #T_55a1a_row11_col0, #T_55a1a_row11_col1, #T_55a1a_row12_col0, #T_55a1a_row12_col1, #T_55a1a_row13_col0, #T_55a1a_row13_col1, #T_55a1a_row14_col0, #T_55a1a_row14_col1, #T_55a1a_row15_col0, #T_55a1a_row15_col1 {\n",
              "  text-align: left;\n",
              "}\n",
              "</style>\n",
              "<table id=\"T_55a1a\">\n",
              "  <thead>\n",
              "    <tr>\n",
              "      <th class=\"blank level0\" >&nbsp;</th>\n",
              "      <th id=\"T_55a1a_level0_col0\" class=\"col_heading level0 col0\" >Column</th>\n",
              "      <th id=\"T_55a1a_level0_col1\" class=\"col_heading level0 col1\" >Description</th>\n",
              "    </tr>\n",
              "  </thead>\n",
              "  <tbody>\n",
              "    <tr>\n",
              "      <th id=\"T_55a1a_level0_row0\" class=\"row_heading level0 row0\" >0</th>\n",
              "      <td id=\"T_55a1a_row0_col0\" class=\"data row0 col0\" >id</td>\n",
              "      <td id=\"T_55a1a_row0_col1\" class=\"data row0 col1\" >Patient ID</td>\n",
              "    </tr>\n",
              "    <tr>\n",
              "      <th id=\"T_55a1a_level0_row1\" class=\"row_heading level0 row1\" >1</th>\n",
              "      <td id=\"T_55a1a_row1_col0\" class=\"data row1 col0\" >age</td>\n",
              "      <td id=\"T_55a1a_row1_col1\" class=\"data row1 col1\" >Age (years)</td>\n",
              "    </tr>\n",
              "    <tr>\n",
              "      <th id=\"T_55a1a_level0_row2\" class=\"row_heading level0 row2\" >2</th>\n",
              "      <td id=\"T_55a1a_row2_col0\" class=\"data row2 col0\" >sex</td>\n",
              "      <td id=\"T_55a1a_row2_col1\" class=\"data row2 col1\" >Sex (1 = male, 0 = female)</td>\n",
              "    </tr>\n",
              "    <tr>\n",
              "      <th id=\"T_55a1a_level0_row3\" class=\"row_heading level0 row3\" >3</th>\n",
              "      <td id=\"T_55a1a_row3_col0\" class=\"data row3 col0\" >dataset</td>\n",
              "      <td id=\"T_55a1a_row3_col1\" class=\"data row3 col1\" >Dataset origin identifier</td>\n",
              "    </tr>\n",
              "    <tr>\n",
              "      <th id=\"T_55a1a_level0_row4\" class=\"row_heading level0 row4\" >4</th>\n",
              "      <td id=\"T_55a1a_row4_col0\" class=\"data row4 col0\" >cp</td>\n",
              "      <td id=\"T_55a1a_row4_col1\" class=\"data row4 col1\" >Chest Pain Type (0 = typical angina, 1 = atypical angina, 2 = non-anginal, 3 = asymptomatic)</td>\n",
              "    </tr>\n",
              "    <tr>\n",
              "      <th id=\"T_55a1a_level0_row5\" class=\"row_heading level0 row5\" >5</th>\n",
              "      <td id=\"T_55a1a_row5_col0\" class=\"data row5 col0\" >trestbps</td>\n",
              "      <td id=\"T_55a1a_row5_col1\" class=\"data row5 col1\" >Resting Blood Pressure (mm Hg)</td>\n",
              "    </tr>\n",
              "    <tr>\n",
              "      <th id=\"T_55a1a_level0_row6\" class=\"row_heading level0 row6\" >6</th>\n",
              "      <td id=\"T_55a1a_row6_col0\" class=\"data row6 col0\" >chol</td>\n",
              "      <td id=\"T_55a1a_row6_col1\" class=\"data row6 col1\" >Serum Cholesterol (mg/dl)</td>\n",
              "    </tr>\n",
              "    <tr>\n",
              "      <th id=\"T_55a1a_level0_row7\" class=\"row_heading level0 row7\" >7</th>\n",
              "      <td id=\"T_55a1a_row7_col0\" class=\"data row7 col0\" >fbs</td>\n",
              "      <td id=\"T_55a1a_row7_col1\" class=\"data row7 col1\" >Fasting Blood Sugar > 120 mg/dl (1 = true, 0 = false)</td>\n",
              "    </tr>\n",
              "    <tr>\n",
              "      <th id=\"T_55a1a_level0_row8\" class=\"row_heading level0 row8\" >8</th>\n",
              "      <td id=\"T_55a1a_row8_col0\" class=\"data row8 col0\" >restecg</td>\n",
              "      <td id=\"T_55a1a_row8_col1\" class=\"data row8 col1\" >Resting ECG results (0 = normal, 1 = ST-T wave abnormality, 2 = left ventricular hypertrophy)</td>\n",
              "    </tr>\n",
              "    <tr>\n",
              "      <th id=\"T_55a1a_level0_row9\" class=\"row_heading level0 row9\" >9</th>\n",
              "      <td id=\"T_55a1a_row9_col0\" class=\"data row9 col0\" >thalch</td>\n",
              "      <td id=\"T_55a1a_row9_col1\" class=\"data row9 col1\" >Maximum Heart Rate Achieved</td>\n",
              "    </tr>\n",
              "    <tr>\n",
              "      <th id=\"T_55a1a_level0_row10\" class=\"row_heading level0 row10\" >10</th>\n",
              "      <td id=\"T_55a1a_row10_col0\" class=\"data row10 col0\" >exang</td>\n",
              "      <td id=\"T_55a1a_row10_col1\" class=\"data row10 col1\" >Exercise Induced Angina (1 = yes, 0 = no)</td>\n",
              "    </tr>\n",
              "    <tr>\n",
              "      <th id=\"T_55a1a_level0_row11\" class=\"row_heading level0 row11\" >11</th>\n",
              "      <td id=\"T_55a1a_row11_col0\" class=\"data row11 col0\" >oldpeak</td>\n",
              "      <td id=\"T_55a1a_row11_col1\" class=\"data row11 col1\" >ST depression induced by exercise relative to rest</td>\n",
              "    </tr>\n",
              "    <tr>\n",
              "      <th id=\"T_55a1a_level0_row12\" class=\"row_heading level0 row12\" >12</th>\n",
              "      <td id=\"T_55a1a_row12_col0\" class=\"data row12 col0\" >slope</td>\n",
              "      <td id=\"T_55a1a_row12_col1\" class=\"data row12 col1\" >Slope of peak exercise ST segment (0 = upsloping, 1 = flat, 2 = downsloping)</td>\n",
              "    </tr>\n",
              "    <tr>\n",
              "      <th id=\"T_55a1a_level0_row13\" class=\"row_heading level0 row13\" >13</th>\n",
              "      <td id=\"T_55a1a_row13_col0\" class=\"data row13 col0\" >ca</td>\n",
              "      <td id=\"T_55a1a_row13_col1\" class=\"data row13 col1\" >Number of major vessels (0–3) colored by fluoroscopy</td>\n",
              "    </tr>\n",
              "    <tr>\n",
              "      <th id=\"T_55a1a_level0_row14\" class=\"row_heading level0 row14\" >14</th>\n",
              "      <td id=\"T_55a1a_row14_col0\" class=\"data row14 col0\" >thal</td>\n",
              "      <td id=\"T_55a1a_row14_col1\" class=\"data row14 col1\" >Thalassemia (3 = normal, 6 = fixed defect, 7 = reversible defect)</td>\n",
              "    </tr>\n",
              "    <tr>\n",
              "      <th id=\"T_55a1a_level0_row15\" class=\"row_heading level0 row15\" >15</th>\n",
              "      <td id=\"T_55a1a_row15_col0\" class=\"data row15 col0\" >num</td>\n",
              "      <td id=\"T_55a1a_row15_col1\" class=\"data row15 col1\" >Diagnosis of heart disease (0 = <50% diameter narrowing, 1 = >50%)</td>\n",
              "    </tr>\n",
              "  </tbody>\n",
              "</table>\n"
            ],
            "text/plain": [
              "<pandas.io.formats.style.Styler at 0x7caf1d2d8230>"
            ]
          },
          "metadata": {},
          "output_type": "display_data"
        }
      ],
      "source": [
        "column_definitions = {\n",
        "    \"id\": \"Patient ID\",\n",
        "    \"age\": \"Age (years)\",\n",
        "    \"sex\": \"Sex (1 = male, 0 = female)\",\n",
        "    \"dataset\": \"Dataset origin identifier\",\n",
        "    \"cp\": \"Chest Pain Type (0 = typical angina, 1 = atypical angina, 2 = non-anginal, 3 = asymptomatic)\",\n",
        "    \"trestbps\": \"Resting Blood Pressure (mm Hg)\",\n",
        "    \"chol\": \"Serum Cholesterol (mg/dl)\",\n",
        "    \"fbs\": \"Fasting Blood Sugar > 120 mg/dl (1 = true, 0 = false)\",\n",
        "    \"restecg\": \"Resting ECG results (0 = normal, 1 = ST-T wave abnormality, 2 = left ventricular hypertrophy)\",\n",
        "    \"thalch\": \"Maximum Heart Rate Achieved\",\n",
        "    \"exang\": \"Exercise Induced Angina (1 = yes, 0 = no)\",\n",
        "    \"oldpeak\": \"ST depression induced by exercise relative to rest\",\n",
        "    \"slope\": \"Slope of peak exercise ST segment (0 = upsloping, 1 = flat, 2 = downsloping)\",\n",
        "    \"ca\": \"Number of major vessels (0–3) colored by fluoroscopy\",\n",
        "    \"thal\": \"Thalassemia (3 = normal, 6 = fixed defect, 7 = reversible defect)\",\n",
        "    \"num\": \"Diagnosis of heart disease (0 = <50% diameter narrowing, 1 = >50%)\"\n",
        "}\n",
        "\n",
        "# Convert to DataFrame for a nice display\n",
        "definitions_df = pd.DataFrame(\n",
        "    list(column_definitions.items()), \n",
        "    columns=[\"Column\", \"Description\"]\n",
        ")\n",
        "display(definitions_df.style.set_properties(**{'text-align': 'left'}))"
      ]
    },
    {
      "cell_type": "markdown",
      "metadata": {},
      "source": [
        "---\n",
        "\n",
        "## Step 1.4 — Basic Dataset Information\n",
        "\n",
        "**Purpose**  \n",
        "\n",
        "Quickly assess dataset structure and potential data quality issues.  \n",
        "\n",
        "**Approach**  \n",
        "\n",
        "- Display dataset info (datatypes, non-null counts).  \n",
        "  \n",
        "- Show dataset shape (rows × columns).  \n",
        "  \n",
        "- Count missing values per column.  \n",
        "  \n",
        "- Compute percentage of missing values.  \n",
        "  \n",
        "- Check for duplicates.  \n",
        "  \n",
        "- Generate descriptive statistics for numeric and non-numeric features.  \n",
        "\n",
        "**Expected Outcome**  \n",
        "\n",
        "An overview of dataset completeness, data quality, and variable distributions, highlighting potential cleaning needs.  "
      ]
    },
    {
      "cell_type": "code",
      "execution_count": 10,
      "metadata": {},
      "outputs": [
        {
          "name": "stdout",
          "output_type": "stream",
          "text": [
            "Dataset Info:\n",
            "<class 'pandas.core.frame.DataFrame'>\n",
            "RangeIndex: 920 entries, 0 to 919\n",
            "Data columns (total 16 columns):\n",
            " #   Column    Non-Null Count  Dtype  \n",
            "---  ------    --------------  -----  \n",
            " 0   id        920 non-null    int64  \n",
            " 1   age       920 non-null    int64  \n",
            " 2   sex       920 non-null    object \n",
            " 3   dataset   920 non-null    object \n",
            " 4   cp        920 non-null    object \n",
            " 5   trestbps  861 non-null    float64\n",
            " 6   chol      890 non-null    float64\n",
            " 7   fbs       830 non-null    object \n",
            " 8   restecg   918 non-null    object \n",
            " 9   thalch    865 non-null    float64\n",
            " 10  exang     865 non-null    object \n",
            " 11  oldpeak   858 non-null    float64\n",
            " 12  slope     611 non-null    object \n",
            " 13  ca        309 non-null    float64\n",
            " 14  thal      434 non-null    object \n",
            " 15  num       920 non-null    int64  \n",
            "dtypes: float64(5), int64(3), object(8)\n",
            "memory usage: 115.1+ KB\n",
            "\n",
            "Shape (rows, columns): (920, 16)\n"
          ]
        }
      ],
      "source": [
        "print(\"Dataset Info:\")\n",
        "df.info()\n",
        "\n",
        "print(\"\\nShape (rows, columns):\", df.shape)\n"
      ]
    },
    {
      "cell_type": "markdown",
      "metadata": {},
      "source": [
        "Check missing values per column"
      ]
    },
    {
      "cell_type": "code",
      "execution_count": 11,
      "metadata": {},
      "outputs": [
        {
          "name": "stdout",
          "output_type": "stream",
          "text": [
            "Missing values per column:\n"
          ]
        },
        {
          "data": {
            "text/plain": [
              "ca          611\n",
              "thal        486\n",
              "slope       309\n",
              "fbs          90\n",
              "oldpeak      62\n",
              "trestbps     59\n",
              "exang        55\n",
              "thalch       55\n",
              "chol         30\n",
              "restecg       2\n",
              "cp            0\n",
              "dataset       0\n",
              "id            0\n",
              "age           0\n",
              "sex           0\n",
              "num           0\n",
              "dtype: int64"
            ]
          },
          "metadata": {},
          "output_type": "display_data"
        }
      ],
      "source": [
        "missing_values = df.isnull().sum().sort_values(ascending=False)\n",
        "print(\"Missing values per column:\")\n",
        "display(missing_values)"
      ]
    },
    {
      "cell_type": "markdown",
      "metadata": {},
      "source": [
        "Percentage of missing values"
      ]
    },
    {
      "cell_type": "code",
      "execution_count": 12,
      "metadata": {},
      "outputs": [
        {
          "name": "stdout",
          "output_type": "stream",
          "text": [
            "Value in % of missing values\n"
          ]
        },
        {
          "data": {
            "text/plain": [
              "ca          66.413043\n",
              "thal        52.826087\n",
              "slope       33.586957\n",
              "fbs          9.782609\n",
              "oldpeak      6.739130\n",
              "trestbps     6.413043\n",
              "exang        5.978261\n",
              "thalch       5.978261\n",
              "chol         3.260870\n",
              "restecg      0.217391\n",
              "cp           0.000000\n",
              "dataset      0.000000\n",
              "id           0.000000\n",
              "age          0.000000\n",
              "sex          0.000000\n",
              "num          0.000000\n",
              "dtype: float64"
            ]
          },
          "metadata": {},
          "output_type": "display_data"
        }
      ],
      "source": [
        "missing_percentage = (df.isnull().sum() / len(df) * 100).sort_values(ascending=False)\n",
        "print(\"Value in % of missing values\")\n",
        "display(missing_percentage)"
      ]
    },
    {
      "cell_type": "markdown",
      "metadata": {},
      "source": [
        "Check for Duplicates"
      ]
    },
    {
      "cell_type": "code",
      "execution_count": 13,
      "metadata": {},
      "outputs": [
        {
          "name": "stdout",
          "output_type": "stream",
          "text": [
            "Number of duplicate rows: 0\n"
          ]
        }
      ],
      "source": [
        "num_duplicates = df.duplicated().sum()\n",
        "print(f\"Number of duplicate rows: {num_duplicates}\")"
      ]
    },
    {
      "cell_type": "markdown",
      "metadata": {},
      "source": [
        "Basic stats for numerical columns. This allows to identify which values can be used right away and which ones require conversion to numerical values"
      ]
    },
    {
      "cell_type": "code",
      "execution_count": 14,
      "metadata": {},
      "outputs": [
        {
          "name": "stdout",
          "output_type": "stream",
          "text": [
            "Numerical variables in the dataset\n"
          ]
        },
        {
          "data": {
            "text/html": [
              "<div>\n",
              "<style scoped>\n",
              "    .dataframe tbody tr th:only-of-type {\n",
              "        vertical-align: middle;\n",
              "    }\n",
              "\n",
              "    .dataframe tbody tr th {\n",
              "        vertical-align: top;\n",
              "    }\n",
              "\n",
              "    .dataframe thead th {\n",
              "        text-align: right;\n",
              "    }\n",
              "</style>\n",
              "<table border=\"1\" class=\"dataframe\">\n",
              "  <thead>\n",
              "    <tr style=\"text-align: right;\">\n",
              "      <th></th>\n",
              "      <th>id</th>\n",
              "      <th>age</th>\n",
              "      <th>trestbps</th>\n",
              "      <th>chol</th>\n",
              "      <th>thalch</th>\n",
              "      <th>oldpeak</th>\n",
              "      <th>ca</th>\n",
              "      <th>num</th>\n",
              "    </tr>\n",
              "  </thead>\n",
              "  <tbody>\n",
              "    <tr>\n",
              "      <th>count</th>\n",
              "      <td>920.000000</td>\n",
              "      <td>920.000000</td>\n",
              "      <td>861.000000</td>\n",
              "      <td>890.000000</td>\n",
              "      <td>865.000000</td>\n",
              "      <td>858.000000</td>\n",
              "      <td>309.000000</td>\n",
              "      <td>920.000000</td>\n",
              "    </tr>\n",
              "    <tr>\n",
              "      <th>mean</th>\n",
              "      <td>460.500000</td>\n",
              "      <td>53.510870</td>\n",
              "      <td>132.132404</td>\n",
              "      <td>199.130337</td>\n",
              "      <td>137.545665</td>\n",
              "      <td>0.878788</td>\n",
              "      <td>0.676375</td>\n",
              "      <td>0.995652</td>\n",
              "    </tr>\n",
              "    <tr>\n",
              "      <th>std</th>\n",
              "      <td>265.725422</td>\n",
              "      <td>9.424685</td>\n",
              "      <td>19.066070</td>\n",
              "      <td>110.780810</td>\n",
              "      <td>25.926276</td>\n",
              "      <td>1.091226</td>\n",
              "      <td>0.935653</td>\n",
              "      <td>1.142693</td>\n",
              "    </tr>\n",
              "    <tr>\n",
              "      <th>min</th>\n",
              "      <td>1.000000</td>\n",
              "      <td>28.000000</td>\n",
              "      <td>0.000000</td>\n",
              "      <td>0.000000</td>\n",
              "      <td>60.000000</td>\n",
              "      <td>-2.600000</td>\n",
              "      <td>0.000000</td>\n",
              "      <td>0.000000</td>\n",
              "    </tr>\n",
              "    <tr>\n",
              "      <th>25%</th>\n",
              "      <td>230.750000</td>\n",
              "      <td>47.000000</td>\n",
              "      <td>120.000000</td>\n",
              "      <td>175.000000</td>\n",
              "      <td>120.000000</td>\n",
              "      <td>0.000000</td>\n",
              "      <td>0.000000</td>\n",
              "      <td>0.000000</td>\n",
              "    </tr>\n",
              "    <tr>\n",
              "      <th>50%</th>\n",
              "      <td>460.500000</td>\n",
              "      <td>54.000000</td>\n",
              "      <td>130.000000</td>\n",
              "      <td>223.000000</td>\n",
              "      <td>140.000000</td>\n",
              "      <td>0.500000</td>\n",
              "      <td>0.000000</td>\n",
              "      <td>1.000000</td>\n",
              "    </tr>\n",
              "    <tr>\n",
              "      <th>75%</th>\n",
              "      <td>690.250000</td>\n",
              "      <td>60.000000</td>\n",
              "      <td>140.000000</td>\n",
              "      <td>268.000000</td>\n",
              "      <td>157.000000</td>\n",
              "      <td>1.500000</td>\n",
              "      <td>1.000000</td>\n",
              "      <td>2.000000</td>\n",
              "    </tr>\n",
              "    <tr>\n",
              "      <th>max</th>\n",
              "      <td>920.000000</td>\n",
              "      <td>77.000000</td>\n",
              "      <td>200.000000</td>\n",
              "      <td>603.000000</td>\n",
              "      <td>202.000000</td>\n",
              "      <td>6.200000</td>\n",
              "      <td>3.000000</td>\n",
              "      <td>4.000000</td>\n",
              "    </tr>\n",
              "  </tbody>\n",
              "</table>\n",
              "</div>"
            ],
            "text/plain": [
              "               id         age    trestbps        chol      thalch     oldpeak  \\\n",
              "count  920.000000  920.000000  861.000000  890.000000  865.000000  858.000000   \n",
              "mean   460.500000   53.510870  132.132404  199.130337  137.545665    0.878788   \n",
              "std    265.725422    9.424685   19.066070  110.780810   25.926276    1.091226   \n",
              "min      1.000000   28.000000    0.000000    0.000000   60.000000   -2.600000   \n",
              "25%    230.750000   47.000000  120.000000  175.000000  120.000000    0.000000   \n",
              "50%    460.500000   54.000000  130.000000  223.000000  140.000000    0.500000   \n",
              "75%    690.250000   60.000000  140.000000  268.000000  157.000000    1.500000   \n",
              "max    920.000000   77.000000  200.000000  603.000000  202.000000    6.200000   \n",
              "\n",
              "               ca         num  \n",
              "count  309.000000  920.000000  \n",
              "mean     0.676375    0.995652  \n",
              "std      0.935653    1.142693  \n",
              "min      0.000000    0.000000  \n",
              "25%      0.000000    0.000000  \n",
              "50%      0.000000    1.000000  \n",
              "75%      1.000000    2.000000  \n",
              "max      3.000000    4.000000  "
            ]
          },
          "metadata": {},
          "output_type": "display_data"
        },
        {
          "name": "stdout",
          "output_type": "stream",
          "text": [
            "Non-numerical varibales in the dataset\n"
          ]
        },
        {
          "data": {
            "text/html": [
              "<div>\n",
              "<style scoped>\n",
              "    .dataframe tbody tr th:only-of-type {\n",
              "        vertical-align: middle;\n",
              "    }\n",
              "\n",
              "    .dataframe tbody tr th {\n",
              "        vertical-align: top;\n",
              "    }\n",
              "\n",
              "    .dataframe thead th {\n",
              "        text-align: right;\n",
              "    }\n",
              "</style>\n",
              "<table border=\"1\" class=\"dataframe\">\n",
              "  <thead>\n",
              "    <tr style=\"text-align: right;\">\n",
              "      <th></th>\n",
              "      <th>sex</th>\n",
              "      <th>dataset</th>\n",
              "      <th>cp</th>\n",
              "      <th>fbs</th>\n",
              "      <th>restecg</th>\n",
              "      <th>exang</th>\n",
              "      <th>slope</th>\n",
              "      <th>thal</th>\n",
              "    </tr>\n",
              "  </thead>\n",
              "  <tbody>\n",
              "    <tr>\n",
              "      <th>count</th>\n",
              "      <td>920</td>\n",
              "      <td>920</td>\n",
              "      <td>920</td>\n",
              "      <td>830</td>\n",
              "      <td>918</td>\n",
              "      <td>865</td>\n",
              "      <td>611</td>\n",
              "      <td>434</td>\n",
              "    </tr>\n",
              "    <tr>\n",
              "      <th>unique</th>\n",
              "      <td>2</td>\n",
              "      <td>4</td>\n",
              "      <td>4</td>\n",
              "      <td>2</td>\n",
              "      <td>3</td>\n",
              "      <td>2</td>\n",
              "      <td>3</td>\n",
              "      <td>3</td>\n",
              "    </tr>\n",
              "    <tr>\n",
              "      <th>top</th>\n",
              "      <td>Male</td>\n",
              "      <td>Cleveland</td>\n",
              "      <td>asymptomatic</td>\n",
              "      <td>False</td>\n",
              "      <td>normal</td>\n",
              "      <td>False</td>\n",
              "      <td>flat</td>\n",
              "      <td>normal</td>\n",
              "    </tr>\n",
              "    <tr>\n",
              "      <th>freq</th>\n",
              "      <td>726</td>\n",
              "      <td>304</td>\n",
              "      <td>496</td>\n",
              "      <td>692</td>\n",
              "      <td>551</td>\n",
              "      <td>528</td>\n",
              "      <td>345</td>\n",
              "      <td>196</td>\n",
              "    </tr>\n",
              "  </tbody>\n",
              "</table>\n",
              "</div>"
            ],
            "text/plain": [
              "         sex    dataset            cp    fbs restecg  exang slope    thal\n",
              "count    920        920           920    830     918    865   611     434\n",
              "unique     2          4             4      2       3      2     3       3\n",
              "top     Male  Cleveland  asymptomatic  False  normal  False  flat  normal\n",
              "freq     726        304           496    692     551    528   345     196"
            ]
          },
          "execution_count": 14,
          "metadata": {},
          "output_type": "execute_result"
        }
      ],
      "source": [
        "print(\"Numerical variables in the dataset\")\n",
        "display(df.describe())\n",
        "\n",
        "print(\"Non-numerical varibales in the dataset\")\n",
        "df.describe(exclude=['number'])\n"
      ]
    },
    {
      "cell_type": "markdown",
      "metadata": {},
      "source": [
        "---\n",
        "\n",
        "## Step 1.5 — Visualize Missingness\n",
        "\n",
        "**Purpose**  \n",
        "\n",
        "Get a quick graphical overview of missing values in the dataset.  \n",
        "\n",
        "**Approach**  \n",
        "\n",
        "- Use `seaborn.heatmap()` to plot missing values.  \n",
        "  \n",
        "- Each row corresponds to one record; yellow marks indicate missing entries.  \n",
        "\n",
        "**Expected Outcome**  \n",
        "\n",
        "A clear visualization of where missingness occurs, making it easier to spot patterns (e.g., entire columns with gaps).  "
      ]
    },
    {
      "cell_type": "code",
      "execution_count": 15,
      "metadata": {},
      "outputs": [
        {
          "data": {
            "image/png": "[encoded data removed]",
            "text/plain": [
              "<Figure size 1000x600 with 1 Axes>"
            ]
          },
          "metadata": {},
          "output_type": "display_data"
        }
      ],
      "source": [
        "import matplotlib.pyplot as plt  # Base plotting engine\n",
        "import seaborn as sns  # Makes statistical plots easier\n",
        "\n",
        "plt.figure(figsize=(10, 6))\n",
        "sns.heatmap(df.isnull(), cbar=False, cmap=\"viridis\")  # One-liner missing values heatmap\n",
        "plt.title(\"Missing Values Heatmap (Purple = Present, Yellow = Missing)\")\n",
        "plt.show()\n"
      ]
    },
    {
      "cell_type": "markdown",
      "metadata": {},
      "source": [
        "---"
      ]
    },
    {
      "cell_type": "markdown",
      "metadata": {
        "id": "ltNetd085qHf"
      },
      "source": [
        "# Step 1.6 — Save Outputs\n",
        "\n",
        "**Purpose**  \n",
        "\n",
        "Store the inspected dataset and figures so that results can be reused without rerunning the entire notebook.  \n",
        "\n",
        "**Approach**  \n",
        "\n",
        "- Save inspected dataset to `outputs/datasets/collection/heart_disease_inspected.csv`. \n",
        "   \n",
        "- Save missing values heatmap to `outputs/figures/missing_values_heatmap.png`.  \n",
        "\n",
        "**Expected Outcome**  \n",
        "\n",
        "All outputs are stored under `outputs/` folders, ensuring organized and reproducible project artifacts.  "
      ]
    },
    {
      "cell_type": "code",
      "execution_count": 16,
      "metadata": {},
      "outputs": [
        {
          "name": "stdout",
          "output_type": "stream",
          "text": [
            "Cleaned dataset and figures saved successfully in outputs/ folder.\n"
          ]
        }
      ],
      "source": [
        "import os\n",
        "\n",
        "os.makedirs(\"outputs/figures\", exist_ok=True)\n",
        "os.makedirs(\"outputs/datasets/collection\", exist_ok=True)\n",
        "\n",
        "# Save the current (cleaned) dataset\n",
        "df.to_csv(\"outputs/datasets/collection/heart_disease_inspected.csv\", index=False)\n",
        "\n",
        "# Save missing values heatmap\n",
        "plt.figure(figsize=(10, 6))\n",
        "sns.heatmap(df.isnull(), cbar=False, cmap=\"viridis\")  # One-liner missing values heatmap\n",
        "plt.title(\"Missing Values Heatmap (Purple = Present, Yellow = Missing)\")\n",
        "plt.savefig(\"outputs/figures/missing_values_heatmap.png\", bbox_inches=\"tight\")\n",
        "plt.close()\n",
        "\n",
        "print(\"Cleaned dataset and figures saved successfully in outputs/ folder.\")"
      ]
    },
    {
      "cell_type": "markdown",
      "metadata": {},
      "source": [
        "---\n",
        "\n",
        "# ✅ Conclusions and Next Steps\n",
        "\n",
        "**In this notebook, we:**  \n",
        "\n",
        "1. Set up the working directory to the project root.  \n",
        "   \n",
        "2. Downloaded the Heart Disease dataset from Kaggle.  \n",
        "   \n",
        "3. Inspected the dataset structure, variable definitions, missing values, duplicates, and summary statistics.  \n",
        "   \n",
        "4. Saved the inspected dataset and a missingness heatmap for later use.  \n",
        "\n",
        "---\n",
        "\n",
        "**Next Steps (Notebook 2 & 3):**  \n",
        "\n",
        "- Perform deeper **exploratory data analysis (EDA)** to identify trends, correlations, and data quality issues. \n",
        "   \n",
        "- Apply **data cleaning and preprocessing** (handling missing values, encoding, etc.).  \n",
        "  \n",
        "- Prepare the dataset for machine learning models in subsequent notebooks.  "
      ]
    }
  ],
  "metadata": {
    "accelerator": "GPU",
    "colab": {
      "name": "Data Practitioner Jupyter Notebook.ipynb",
      "provenance": [],
      "toc_visible": true
    },
    "kernelspec": {
      "display_name": "3.12.1",
      "language": "python",
      "name": "python3"
    },
    "language_info": {
      "codemirror_mode": {
        "name": "ipython",
        "version": 3
      },
      "file_extension": ".py",
      "mimetype": "text/x-python",
      "name": "python",
      "nbconvert_exporter": "python",
      "pygments_lexer": "ipython3",
      "version": "3.12.1"
    },
    "orig_nbformat": 2
  },
  "nbformat": 4,
  "nbformat_minor": 2
}
