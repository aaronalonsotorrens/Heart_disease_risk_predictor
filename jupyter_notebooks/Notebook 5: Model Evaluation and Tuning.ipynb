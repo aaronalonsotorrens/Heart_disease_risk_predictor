{
 "cells": [
  {
   "cell_type": "markdown",
   "id": "72936755",
   "metadata": {},
   "source": [
    "# 🧪 Notebook 5 — Model Evaluation & Tuning\n",
    "\n",
    "In Notebook 4, we trained baseline models (Logistic Regression & Random Forest) and performed an initial evaluation.  \n",
    "\n",
    "This was an exploratory check.\n",
    "\n",
    "In Notebook 5, we perform a **systematic evaluation**, hyperparameter tuning, and final model selection for deployment.\n",
    "\n",
    "---\n",
    "\n",
    "Workflow Overview:\n",
    "\n",
    "1. Load preprocessed data splits and saved models from Notebook 4.  \n",
    "   \n",
    "2. Evaluate baseline models on the validation set.  \n",
    "   \n",
    "3. Visualize confusion matrices.  \n",
    "   \n",
    "4. Perform hyperparameter tuning via GridSearchCV.\n",
    "     \n",
    "5. Plot **cross-validation ROC curves** to inspect model discrimination.  \n",
    "   \n",
    "6. Evaluate tuned models on the test set.  \n",
    "   \n",
    "7. Save best models for deployment.  \n",
    "   \n",
    "8. Compare baseline vs tuned vs test performance in a summary table."
   ]
  },
  {
   "cell_type": "markdown",
   "id": "2883bb30",
   "metadata": {},
   "source": [
    "---"
   ]
  },
  {
   "cell_type": "markdown",
   "id": "597cced7",
   "metadata": {},
   "source": [
    "## 5.1 Load Preprocessed Data & Models\n",
    "\n",
    "We first need to:\n",
    "\n",
    "- Load the **scaler** used for feature normalization (to ensure consistency).  \n",
    "\n",
    "- Reload the **Logistic Regression** and **Random Forest** models saved in Notebook 4.  \n",
    "\n",
    "📌 *Why?*  \n",
    "\n",
    "We don’t want to retrain everything from scratch. By loading the models, we can continue the workflow where Notebook 4 left off."
   ]
  },
  {
   "cell_type": "code",
   "execution_count": 12,
   "id": "da61cbb5",
   "metadata": {},
   "outputs": [
    {
     "name": "stdout",
     "output_type": "stream",
     "text": [
      "✅ Models, scaler, and splits loaded successfully\n",
      "Train shape: (644, 16)\n",
      "Validation shape: (138, 16)\n",
      "Test shape: (138, 16)\n"
     ]
    }
   ],
   "source": [
    "import joblib\n",
    "\n",
    "# Load scaler\n",
    "scaler = joblib.load(\"models/scaler.pkl\")\n",
    "\n",
    "# Load models\n",
    "log_reg = joblib.load(\"models/log_reg.pkl\")\n",
    "rf = joblib.load(\"models/random_forest.pkl\")\n",
    "\n",
    "# Load data splits\n",
    "X_train, X_val, X_test, y_train, y_val, y_test = joblib.load(\"models/splits.pkl\")\n",
    "\n",
    "# Scale the splits (using the same scaler fitted in Notebook 4)\n",
    "X_train_scaled = scaler.transform(X_train)\n",
    "X_val_scaled   = scaler.transform(X_val)\n",
    "X_test_scaled  = scaler.transform(X_test)\n",
    "\n",
    "print(\"✅ Models, scaler, and splits loaded successfully\")\n",
    "print(\"Train shape:\", X_train.shape)\n",
    "print(\"Validation shape:\", X_val.shape)\n",
    "print(\"Test shape:\", X_test.shape)"
   ]
  },
  {
   "cell_type": "markdown",
   "id": "b8cf7452",
   "metadata": {},
   "source": [
    "---"
   ]
  },
  {
   "cell_type": "markdown",
   "id": "d498dab9",
   "metadata": {},
   "source": [
    "## 5.2 Evaluate Baseline Models on Validation Set\n",
    "\n",
    "We start by comparing both models on the **validation set**.  \n",
    "\n",
    "Metrics we’ll use:\n",
    "\n",
    "- **Accuracy** → Overall correctness  \n",
    "  \n",
    "- **Precision** → Of those predicted \"disease\", how many were correct?  \n",
    "  \n",
    "- **Recall (Sensitivity)** → Of actual disease cases, how many did we catch?  \n",
    "  \n",
    "- **F1-score** → Balance between precision & recall \n",
    "   \n",
    "- **ROC-AUC** → Ability of the model to distinguish between positive/negative cases  \n",
    "\n",
    "📌 *Why validation set?*  \n",
    "\n",
    "We don’t want to test on the test set yet (to avoid bias). The validation set acts as a \"practice test.\""
   ]
  },
  {
   "cell_type": "code",
   "execution_count": 14,
   "id": "e0a12271",
   "metadata": {},
   "outputs": [
    {
     "name": "stdout",
     "output_type": "stream",
     "text": [
      "\n",
      "📊 Logistic Regression - Validation Set Performance\n",
      "              precision    recall  f1-score   support\n",
      "\n",
      "           0      0.794     0.820     0.806        61\n",
      "           1      0.853     0.831     0.842        77\n",
      "\n",
      "    accuracy                          0.826       138\n",
      "   macro avg      0.823     0.825     0.824       138\n",
      "weighted avg      0.827     0.826     0.826       138\n",
      "\n",
      "ROC-AUC: 0.9035554609325102\n",
      "\n",
      "📊 Random Forest - Validation Set Performance\n",
      "              precision    recall  f1-score   support\n",
      "\n",
      "           0      0.605     0.852     0.707        61\n",
      "           1      0.827     0.558     0.667        77\n",
      "\n",
      "    accuracy                          0.688       138\n",
      "   macro avg      0.716     0.705     0.687       138\n",
      "weighted avg      0.729     0.688     0.685       138\n",
      "\n",
      "ROC-AUC: 0.8565041515861189\n"
     ]
    },
    {
     "name": "stderr",
     "output_type": "stream",
     "text": [
      "/home/cistudent/.local/lib/python3.12/site-packages/sklearn/base.py:465: UserWarning: X does not have valid feature names, but RandomForestClassifier was fitted with feature names\n",
      "  warnings.warn(\n",
      "/home/cistudent/.local/lib/python3.12/site-packages/sklearn/base.py:465: UserWarning: X does not have valid feature names, but RandomForestClassifier was fitted with feature names\n",
      "  warnings.warn(\n"
     ]
    }
   ],
   "source": [
    "from sklearn.metrics import classification_report, roc_auc_score, confusion_matrix, f1_score\n",
    "\n",
    "baseline_results = []\n",
    "\n",
    "models = {\n",
    "    \"Logistic Regression\": log_reg,\n",
    "    \"Random Forest\": rf\n",
    "}\n",
    "\n",
    "for name, model in models.items():\n",
    "    print(f\"\\n📊 {name} - Validation Set Performance\")\n",
    "    y_val_pred = model.predict(X_val_scaled)\n",
    "    y_val_proba = model.predict_proba(X_val_scaled)[:,1]\n",
    "\n",
    "    print(classification_report(y_val, y_val_pred, digits=3))\n",
    "    roc_auc = roc_auc_score(y_val, y_val_proba)\n",
    "    print(\"ROC-AUC:\", roc_auc)\n",
    "    \n",
    "    baseline_results.append({\n",
    "        \"Model\": name,\n",
    "        \"Dataset\": \"Validation\",\n",
    "        \"Accuracy\": (y_val_pred == y_val).mean(),\n",
    "        \"F1\": f1_score(y_val, y_val_pred),\n",
    "        \"ROC-AUC\": roc_auc\n",
    "    })"
   ]
  },
  {
   "cell_type": "markdown",
   "id": "8dc3899d",
   "metadata": {},
   "source": [
    "---"
   ]
  },
  {
   "cell_type": "markdown",
   "id": "ed9d53bd",
   "metadata": {},
   "source": [
    "## 5.3 Visualize Confusion Matrices\n",
    "\n",
    "Confusion matrices show how predictions are distributed:\n",
    "\n",
    "- **True Positives (TP):** correctly predicted disease  \n",
    "\n",
    "- **True Negatives (TN):** correctly predicted no disease  \n",
    "  \n",
    "- **False Positives (FP):** predicted disease but actually healthy  \n",
    "  \n",
    "- **False Negatives (FN):** predicted healthy but actually disease  \n",
    "\n",
    "📌 *Why this matters?*  \n",
    "\n",
    "For medical predictions, **False Negatives are critical** — missing a real disease case is much worse than a false alarm."
   ]
  },
  {
   "cell_type": "code",
   "execution_count": 22,
   "id": "f40299f6",
   "metadata": {},
   "outputs": [
    {
     "name": "stderr",
     "output_type": "stream",
     "text": [
      "/home/cistudent/.local/lib/python3.12/site-packages/sklearn/base.py:465: UserWarning: X does not have valid feature names, but RandomForestClassifier was fitted with feature names\n",
      "  warnings.warn(\n"
     ]
    },
    {
     "data": {
      "image/png": "[encoded data removed]",
      "text/plain": [
       "<Figure size 1200x500 with 4 Axes>"
      ]
     },
     "metadata": {},
     "output_type": "display_data"
    }
   ],
   "source": [
    "import matplotlib.pyplot as plt\n",
    "import seaborn as sns\n",
    "\n",
    "fig, axes = plt.subplots(1, 2, figsize=(12, 5))\n",
    "\n",
    "for ax, (name, model) in zip(axes, models.items()):\n",
    "    cm = confusion_matrix(y_val, model.predict(X_val_scaled))\n",
    "    sns.heatmap(cm, annot=True, fmt=\"d\", cmap=\"Blues\", ax=ax)\n",
    "    ax.set_title(f\"{name} - Confusion Matrix\")\n",
    "    ax.set_xlabel(\"Predicted\")\n",
    "    ax.set_ylabel(\"Actual\")\n",
    "\n",
    "plt.show()"
   ]
  },
  {
   "cell_type": "markdown",
   "id": "81c06764",
   "metadata": {},
   "source": [
    "---"
   ]
  },
  {
   "cell_type": "markdown",
   "id": "7ec11d41",
   "metadata": {},
   "source": [
    "## 5.4 Hyperparameter Tuning\n",
    "\n",
    "Now we try to **improve performance** by adjusting model hyperparameters.\n",
    "\n",
    "- **Logistic Regression:**  \n",
    "  \n",
    "  - `C`: Regularization strength (smaller = stronger regularization).  \n",
    "  \n",
    "  - `solver`: Algorithm to optimize the model.  \n",
    "\n",
    "- **Random Forest:**  \n",
    "  \n",
    "  - `n_estimators`: Number of trees in the forest.  \n",
    "  \n",
    "  - `max_depth`: Maximum depth of each tree.  \n",
    "  \n",
    "  - `min_samples_split`: Minimum samples required to split a node.  \n",
    "\n",
    "📌 *Why tuning?*  \n",
    "\n",
    "Default parameters may not be optimal. By searching systematically, we can reduce overfitting and increase generalization."
   ]
  },
  {
   "cell_type": "code",
   "execution_count": 16,
   "id": "a7a348f3",
   "metadata": {},
   "outputs": [
    {
     "name": "stdout",
     "output_type": "stream",
     "text": [
      "Best Logistic Regression: {'C': 0.1, 'solver': 'liblinear'}\n",
      "Best Random Forest: {'max_depth': 5, 'min_samples_split': 5, 'n_estimators': 200}\n"
     ]
    }
   ],
   "source": [
    "from sklearn.model_selection import GridSearchCV, StratifiedKFold\n",
    "from sklearn.metrics import make_scorer, f1_score, roc_curve, auc\n",
    "import numpy as np\n",
    "\n",
    "# Logistic Regression tuning\n",
    "log_reg_params = {\"C\": [0.01, 0.1, 1, 10], \"solver\": [\"liblinear\"]}\n",
    "cv = StratifiedKFold(n_splits=5, shuffle=True, random_state=42)\n",
    "\n",
    "grid_log = GridSearchCV(log_reg, log_reg_params, cv=cv, scoring=\"f1\", return_train_score=True)\n",
    "grid_log.fit(X_train_scaled, y_train)\n",
    "\n",
    "# Random Forest tuning\n",
    "rf_params = {\"n_estimators\": [100, 200],\n",
    "             \"max_depth\": [None, 5, 10],\n",
    "             \"min_samples_split\": [2, 5]}\n",
    "\n",
    "grid_rf = GridSearchCV(rf, rf_params, cv=cv, scoring=\"f1\", return_train_score=True)\n",
    "grid_rf.fit(X_train_scaled, y_train)\n",
    "\n",
    "print(\"Best Logistic Regression:\", grid_log.best_params_)\n",
    "print(\"Best Random Forest:\", grid_rf.best_params_)"
   ]
  },
  {
   "cell_type": "markdown",
   "id": "212b0204",
   "metadata": {},
   "source": [
    "---"
   ]
  },
  {
   "cell_type": "markdown",
   "id": "2fa6af11",
   "metadata": {},
   "source": []
  },
  {
   "cell_type": "markdown",
   "id": "399086cd",
   "metadata": {},
   "source": []
  },
  {
   "cell_type": "markdown",
   "id": "34d4251a",
   "metadata": {},
   "source": [
    "---"
   ]
  },
  {
   "cell_type": "markdown",
   "id": "36af7ba6",
   "metadata": {},
   "source": [
    "---"
   ]
  }
 ],
 "metadata": {
  "kernelspec": {
   "display_name": "3.12.1",
   "language": "python",
   "name": "python3"
  },
  "language_info": {
   "codemirror_mode": {
    "name": "ipython",
    "version": 3
   },
   "file_extension": ".py",
   "mimetype": "text/x-python",
   "name": "python",
   "nbconvert_exporter": "python",
   "pygments_lexer": "ipython3",
   "version": "3.12.1"
  }
 },
 "nbformat": 4,
 "nbformat_minor": 5
}
