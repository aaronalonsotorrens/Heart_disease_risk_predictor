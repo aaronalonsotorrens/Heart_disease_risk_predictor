{
 "cells": [
  {
   "cell_type": "markdown",
   "id": "eb9ac286",
   "metadata": {},
   "source": [
    "# Notebook 2: Exploratory Data Analysis & Feature Selection"
   ]
  },
  {
   "cell_type": "markdown",
   "id": "dd6a24dc",
   "metadata": {},
   "source": [
    "## Objectives\n",
    "\n",
    "* Explore the heart disease dataset to identify patterns and relationships between features and the target variable.\n",
    "* Determine the top features to feed into machine learning models."
   ]
  },
  {
   "cell_type": "markdown",
   "id": "93c75d75",
   "metadata": {},
   "source": [
    "## Inputs\n",
    "* `outputs/datasets/collection/heart_disease_raw.csv` (from Notebook 1)"
   ]
  },
  {
   "cell_type": "markdown",
   "id": "947a9413",
   "metadata": {},
   "source": [
    "## Outputs\n",
    "* Insights and visualizations to guide feature selection.\n",
    "* List of top candidate variables for modeling.\n",
    "* Optional figures saved to `outputs/figures`."
   ]
  },
  {
   "cell_type": "markdown",
   "id": "cd5beca4",
   "metadata": {},
   "source": [
    "### OPTIONAL: Automated Profiling Report\n",
    "Uncomment to run this for a quick, minimal summary of the dataset.\n",
    "\n",
    "from ydata_profiling import ProfileReport\n",
    "import pandas as pd\n",
    "data_path = \"outputs/datasets/collection/heart_disease_raw.csv\"\n",
    "df = pd.read_csv(data_path)\n",
    "pandas_report = ProfileReport(df=df, minimal=True)\n",
    "pandas_report.to_notebook_iframe()"
   ]
  }
 ],
 "metadata": {
  "language_info": {
   "name": "python"
  }
 },
 "nbformat": 4,
 "nbformat_minor": 5
}
