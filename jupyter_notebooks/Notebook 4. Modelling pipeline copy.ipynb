{
 "cells": [
  {
   "cell_type": "markdown",
   "id": "e82f1c53",
   "metadata": {},
   "source": [
    "# 🧠 Notebook 4 — Modelling Pipeline\n",
    "\n",
    "This notebook is where we begin the **machine learning stage** of our project.\n",
    "  \n",
    "After cleaning and preprocessing in Notebooks 2 & 3, we now focus on:\n",
    "\n",
    " 1. Preparing the dataset for machine learning (splitting and scaling).\n",
    "   \n",
    " 2. Training baseline models (Logistic Regression and Random Forest).\n",
    "   \n",
    " 3. Evaluating the models using multiple metrics.\n",
    "   \n",
    " 4. Selecting and saving the best model for deployment.\n",
    "\n",
    "The goal is to establish **baseline performance** and understand which type of\n",
    "\n",
    "model works best on this dataset."
   ]
  },
  {
   "cell_type": "markdown",
   "id": "ba4dc43c",
   "metadata": {},
   "source": [
    "---"
   ]
  },
  {
   "cell_type": "markdown",
   "id": "6ca79d5b",
   "metadata": {},
   "source": [
    "## 4.1 Import Libraries\n",
    "\n",
    "Here we import all the required libraries:\n",
    "\n",
    "- **pandas, numpy** → manage structured data and numerical operations.\n",
    "  \n",
    "- **matplotlib, seaborn** → visualization for model evaluation.\n",
    "  \n",
    "- **scikit-learn (sklearn)** → main ML toolkit for splitting, preprocessing, \n",
    "  =  training, and evaluation.\n",
    "\n",
    "- **joblib** → saving and reloading models/scalers for deployment.\n",
    "\n",
    "Together, these libraries form the standard ML stack in Python projects."
   ]
  },
  {
   "cell_type": "code",
   "execution_count": 2,
   "id": "121b33b7",
   "metadata": {},
   "outputs": [],
   "source": [
    "import pandas as pd\n",
    "import numpy as np\n",
    "\n",
    "import matplotlib.pyplot as plt\n",
    "import seaborn as sns\n",
    "\n",
    "from sklearn.model_selection import train_test_split\n",
    "from sklearn.preprocessing import StandardScaler\n",
    "from sklearn.linear_model import LogisticRegression\n",
    "from sklearn.ensemble import RandomForestClassifier\n",
    "from sklearn.metrics import (\n",
    "    accuracy_score, precision_score, recall_score, f1_score,\n",
    "    roc_auc_score, classification_report, confusion_matrix, RocCurveDisplay\n",
    ")\n",
    "import joblib"
   ]
  },
  {
   "cell_type": "markdown",
   "id": "f2697d91",
   "metadata": {},
   "source": [
    "---"
   ]
  },
  {
   "cell_type": "markdown",
   "id": "b42b6f80",
   "metadata": {},
   "source": [
    "## 4.2 Load Dataset\n",
    "\n",
    "We now load the **cleaned dataset** from Notebook 3.\n",
    "\n",
    "- This ensures all cleaning and preprocessing steps are applied consistently.\n",
    "  \n",
    "- It prevents **data leakage** (where information from the test set influences training).\n",
    "  \n",
    "- The dataset we load here is \"ready-to-use\" for machine learning."
   ]
  },
  {
   "cell_type": "code",
   "execution_count": 3,
   "id": "8f4b847c",
   "metadata": {},
   "outputs": [
    {
     "name": "stdout",
     "output_type": "stream",
     "text": [
      "['id', 'age', 'trestbps', 'chol', 'fbs', 'thalch', 'exang', 'oldpeak', 'sex_Male', 'dataset_Hungary', 'dataset_Switzerland', 'dataset_VA Long Beach', 'cp_atypical angina', 'cp_non-anginal', 'cp_typical angina', 'restecg_normal', 'restecg_st-t abnormality', 'HeartDisease', 'num']\n",
      "   id  age  trestbps   chol    fbs  thalch  exang  oldpeak  sex_Male  \\\n",
      "0   1   63     145.0  233.0   True   150.0  False      2.3      True   \n",
      "1   2   67     160.0  286.0  False   108.0   True      1.5      True   \n",
      "2   3   67     120.0  229.0  False   129.0   True      2.6      True   \n",
      "3   4   37     130.0  250.0  False   187.0  False      3.5      True   \n",
      "4   5   41     130.0  204.0  False   172.0  False      1.4     False   \n",
      "\n",
      "   dataset_Hungary  dataset_Switzerland  dataset_VA Long Beach  \\\n",
      "0            False                False                  False   \n",
      "1            False                False                  False   \n",
      "2            False                False                  False   \n",
      "3            False                False                  False   \n",
      "4            False                False                  False   \n",
      "\n",
      "   cp_atypical angina  cp_non-anginal  cp_typical angina  restecg_normal  \\\n",
      "0               False           False               True           False   \n",
      "1               False           False              False           False   \n",
      "2               False           False              False           False   \n",
      "3               False            True              False            True   \n",
      "4                True           False              False           False   \n",
      "\n",
      "   restecg_st-t abnormality  HeartDisease  num  \n",
      "0                     False             0    0  \n",
      "1                     False             1    2  \n",
      "2                     False             1    1  \n",
      "3                     False             0    0  \n",
      "4                     False             0    0  \n",
      "✅ The dataset has 920 rows and 19 columns.\n"
     ]
    }
   ],
   "source": [
    "df = pd.read_csv('outputs/datasets/cleaned/heart_disease_cleaned.csv')\n",
    "print(df.columns.tolist())   # see all column names\n",
    "print(df.head())  \n",
    "\n",
    "rows, cols = df.shape\n",
    "print(f\"✅ The dataset has {rows} rows and {cols} columns.\")\n"
   ]
  },
  {
   "cell_type": "markdown",
   "id": "e4f8b39b",
   "metadata": {},
   "source": [
    "---"
   ]
  },
  {
   "cell_type": "markdown",
   "id": "da682e46",
   "metadata": {},
   "source": [
    "## 4.3 Define Features and Target\n",
    "\n",
    "Machine learning models need:\n",
    "\n",
    "- **Features (X):** patient health indicators (age, cholesterol, etc.)\n",
    "  \n",
    "- **Target (y):** the outcome we want to predict (`HeartDisease`).\n",
    "\n",
    "Separating X and y makes the problem explicit:\n",
    "\n",
    "*\"Given these features, can the model predict heart disease?\"*"
   ]
  },
  {
   "cell_type": "code",
   "execution_count": 4,
   "id": "94541494",
   "metadata": {},
   "outputs": [
    {
     "data": {
      "image/png": "[encoded data removed]",
      "text/plain": [
       "<Figure size 640x480 with 1 Axes>"
      ]
     },
     "metadata": {},
     "output_type": "display_data"
    },
    {
     "name": "stdout",
     "output_type": "stream",
     "text": [
      "Features shape: (920, 16)\n",
      "Target shape: (920,)\n",
      "Remaining feature columns: ['age', 'trestbps', 'chol', 'fbs', 'thalch', 'exang', 'oldpeak', 'sex_Male', 'dataset_Hungary', 'dataset_Switzerland', 'dataset_VA Long Beach', 'cp_atypical angina', 'cp_non-anginal', 'cp_typical angina', 'restecg_normal', 'restecg_st-t abnormality']\n"
     ]
    },
    {
     "data": {
      "text/plain": [
       "HeartDisease\n",
       "1    509\n",
       "0    411\n",
       "Name: count, dtype: int64"
      ]
     },
     "execution_count": 4,
     "metadata": {},
     "output_type": "execute_result"
    }
   ],
   "source": [
    "# Distribution of HeartDisease\n",
    "import seaborn as sns\n",
    "import matplotlib.pyplot as plt\n",
    "\n",
    "X = df.drop(columns=[\"HeartDisease\", \"num\", \"id\"])  \n",
    "y = df[\"HeartDisease\"]\n",
    "\n",
    "sns.countplot(x=y)\n",
    "plt.title(\"Distribution of Heart Disease (Target)\")\n",
    "plt.show()\n",
    "\n",
    "# Quick check of features and target\n",
    "print(\"Features shape:\", X.shape)\n",
    "print(\"Target shape:\", y.shape)\n",
    "print(\"Remaining feature columns:\", X.columns.tolist())\n",
    "y.value_counts()\n",
    "\n"
   ]
  },
  {
   "cell_type": "markdown",
   "id": "53602905",
   "metadata": {},
   "source": [
    "---"
   ]
  },
  {
   "cell_type": "markdown",
   "id": "6f106a5e",
   "metadata": {},
   "source": [
    "## 4.4 Split Data\n",
    "\n",
    "To evaluate fairly, we split the dataset into **independent subsets**:\n",
    "\n",
    "- **Training set (70%)** → used to train the model.\n",
    "  \n",
    "- **Validation set (15%)** → used to tune and compare models.\n",
    "  \n",
    "- **Test set (15%)** → kept aside until the end, simulating \"new\" unseen data.\n",
    "\n",
    "This ensures we avoid **overfitting** and get a realistic picture of performance.\n",
    "\n",
    "We also use `stratify=y` to preserve the class balance across all splits."
   ]
  },
  {
   "cell_type": "code",
   "execution_count": 5,
   "id": "3669cdae",
   "metadata": {},
   "outputs": [
    {
     "name": "stdout",
     "output_type": "stream",
     "text": [
      "Train size: (644, 16)\n",
      "Validation size: (138, 16)\n",
      "Test size: (138, 16)\n",
      "\n",
      "✅ Class distribution in Train:\n",
      "HeartDisease\n",
      "1    0.552795\n",
      "0    0.447205\n",
      "Name: proportion, dtype: float64\n",
      "\n",
      "✅ Class distribution in Validation:\n",
      "HeartDisease\n",
      "1    0.557971\n",
      "0    0.442029\n",
      "Name: proportion, dtype: float64\n",
      "\n",
      "✅ Class distribution in Test:\n",
      "HeartDisease\n",
      "1    0.550725\n",
      "0    0.449275\n",
      "Name: proportion, dtype: float64\n"
     ]
    }
   ],
   "source": [
    "X_train, X_temp, y_train, y_temp = train_test_split(\n",
    "    X, y, test_size=0.3, random_state=42, stratify=y\n",
    ")\n",
    "X_val, X_test, y_val, y_test = train_test_split(\n",
    "    X_temp, y_temp, test_size=0.5, random_state=42, stratify=y_temp\n",
    ")\n",
    "\n",
    "print(\"Train size:\", X_train.shape)\n",
    "print(\"Validation size:\", X_val.shape)\n",
    "print(\"Test size:\", X_test.shape)\n",
    "\n",
    "# --- Check class distribution across splits ---\n",
    "print(\"\\n✅ Class distribution in Train:\")\n",
    "print(y_train.value_counts(normalize=True))\n",
    "print(\"\\n✅ Class distribution in Validation:\")\n",
    "print(y_val.value_counts(normalize=True))\n",
    "print(\"\\n✅ Class distribution in Test:\")\n",
    "print(y_test.value_counts(normalize=True))"
   ]
  },
  {
   "cell_type": "markdown",
   "id": "187b75e8",
   "metadata": {},
   "source": [
    "---"
   ]
  },
  {
   "cell_type": "markdown",
   "id": "38043ce2",
   "metadata": {},
   "source": [
    "## 4.5 Feature Scaling\n",
    "\n",
    "Some algorithms (like Logistic Regression, KNN, or SVM) are sensitive to\n",
    "\n",
    "differences in feature scales. For example:\n",
    "\n",
    " - Cholesterol might range from 100–400\n",
    "  \n",
    " - Age might range from 30–80\n",
    "\n",
    " If left unscaled, features with larger ranges dominate the model.\n",
    "\n",
    " We therefore:\n",
    "\n",
    " - Fit a **StandardScaler** on the training set.\n",
    "  \n",
    " - Apply the same transformation to validation and test sets.\n",
    "\n",
    "Note: Random Forests are tree-based and do **not** need scaling,\n",
    "\n",
    "but we still scale for consistency across models."
   ]
  },
  {
   "cell_type": "code",
   "execution_count": 6,
   "id": "020f4b42",
   "metadata": {},
   "outputs": [
    {
     "name": "stdout",
     "output_type": "stream",
     "text": [
      "✅ Scaler saved to models/scaler.pkl\n",
      "Train scaled shape: (644, 16)\n",
      "Validation scaled shape: (138, 16)\n",
      "Test scaled shape: (138, 16)\n",
      "🔎 Average absolute difference after scaling: 36.130041\n",
      "✅ Scaling changed feature distributions\n"
     ]
    }
   ],
   "source": [
    "import os\n",
    "import joblib\n",
    "\n",
    "scaler = StandardScaler()\n",
    "X_train_scaled = scaler.fit_transform(X_train)\n",
    "X_val_scaled   = scaler.transform(X_val)\n",
    "X_test_scaled  = scaler.transform(X_test)\n",
    "\n",
    "# --- Create models folder if it doesn't exist ---\n",
    "os.makedirs(\"models\", exist_ok=True)\n",
    "\n",
    "# --- Save the scaler ---\n",
    "joblib.dump(scaler, \"models/scaler.pkl\")\n",
    "print(\"✅ Scaler saved to models/scaler.pkl\")\n",
    "\n",
    "# Optional quick check\n",
    "print(\"Train scaled shape:\", X_train_scaled.shape)\n",
    "print(\"Validation scaled shape:\", X_val_scaled.shape)\n",
    "print(\"Test scaled shape:\", X_test_scaled.shape)\n",
    "\n",
    "diff = np.abs(X_val.values - X_val_scaled).mean()\n",
    "print(f\"🔎 Average absolute difference after scaling: {diff:.6f}\")\n",
    "\n",
    "if diff < 1e-8:\n",
    "    print(\"⚠️ Scaling had no effect (features may already be normalized/binary)\")\n",
    "else:\n",
    "    print(\"✅ Scaling changed feature distributions\")"
   ]
  },
  {
   "cell_type": "markdown",
   "id": "19d9a66e",
   "metadata": {},
   "source": [
    "---"
   ]
  },
  {
   "cell_type": "markdown",
   "id": "b06c5ac8",
   "metadata": {},
   "source": [
    "# 5. Baseline Models\n",
    "\n",
    "We now train two baseline models:\n",
    "\n",
    "- **Logistic Regression:** interpretable linear model, often a good benchmark.\n",
    "  \n",
    "- **Random Forest:** flexible tree-based ensemble, usually strong on tabular data.\n",
    "\n",
    "Comparing these two gives us insights into:\n",
    "\n",
    "- How well a simple linear decision boundary performs.\n",
    "  \n",
    "- Whether a more complex nonlinear model adds value."
   ]
  },
  {
   "cell_type": "markdown",
   "id": "57e25758",
   "metadata": {},
   "source": [
    "--"
   ]
  },
  {
   "cell_type": "markdown",
   "id": "6d0e916a",
   "metadata": {},
   "source": [
    "## 5.1 Logistic Regression\n",
    "\n",
    "Logistic Regression:\n",
    "\n",
    "- Models the probability of heart disease as a logistic function of features.\n",
    "\n",
    "- Provides interpretable coefficients (we can later check which features\n",
    "  \n",
    "  contribute positively/negatively).\n",
    "\n",
    "- Requires scaling for stable training."
   ]
  },
  {
   "cell_type": "code",
   "execution_count": 7,
   "id": "dc77c821",
   "metadata": {},
   "outputs": [],
   "source": [
    "log_reg = LogisticRegression(max_iter=1000, random_state=42)\n",
    "log_reg.fit(X_train_scaled, y_train)\n",
    "\n",
    "y_val_pred_lr = log_reg.predict(X_val_scaled)\n",
    "y_val_proba_lr = log_reg.predict_proba(X_val_scaled)[:, 1]"
   ]
  },
  {
   "cell_type": "markdown",
   "id": "09a5280b",
   "metadata": {},
   "source": [
    "## 5.2 Random Forest\n",
    "\n",
    "Random Forest:\n",
    "\n",
    "- An ensemble of decision trees (trained on random subsets of data/features).\n",
    "  \n",
    "- Handles non-linear relationships and feature interactions well.\n",
    "\n",
    "- Works directly on unscaled data.\n",
    "  \n",
    "This makes it a strong competitor against Logistic Regression in medical datasets."
   ]
  },
  {
   "cell_type": "code",
   "execution_count": 12,
   "id": "9a073fe8",
   "metadata": {},
   "outputs": [
    {
     "name": "stdout",
     "output_type": "stream",
     "text": [
      "\n",
      "🔎 Feature correlations with HeartDisease:\n",
      " HeartDisease                1.000000\n",
      "num                         0.783387\n",
      "exang                       0.433605\n",
      "oldpeak                     0.366138\n",
      "id                          0.356086\n",
      "sex_Male                    0.307284\n",
      "dataset_Switzerland         0.301614\n",
      "age                         0.282700\n",
      "dataset_VA Long Beach       0.203267\n",
      "trestbps                    0.111305\n",
      "fbs                         0.108071\n",
      "restecg_st-t abnormality    0.104750\n",
      "chol                        0.089008\n",
      "cp_typical angina          -0.054673\n",
      "restecg_normal             -0.093554\n",
      "cp_non-anginal             -0.209812\n",
      "dataset_Hungary            -0.263297\n",
      "thalch                     -0.381864\n",
      "cp_atypical angina         -0.403465\n",
      "Name: HeartDisease, dtype: float64\n",
      "\n",
      "✅ No features show suspiciously high correlation with target.\n"
     ]
    }
   ],
   "source": [
    "rf = RandomForestClassifier(n_estimators=100, random_state=42)\n",
    "rf.fit(X_train, y_train)\n",
    "\n",
    "y_val_pred_rf = rf.predict(X_val)\n",
    "y_val_proba_rf = rf.predict_proba(X_val)[:, 1]\n",
    "\n",
    "# --- Check correlations for possible leakage ---\n",
    "corr = df.corr()[\"HeartDisease\"].sort_values(ascending=False)\n",
    "print(\"\\n🔎 Feature correlations with HeartDisease:\\n\", corr)\n",
    "\n",
    "# --- Auto-flag suspicious correlations (> 0.95 or < -0.95) ---\n",
    "suspect = corr[(corr.abs() > 0.95) & (corr.index != \"HeartDisease\")]\n",
    "if not suspect.empty:\n",
    "    print(\"\\n⚠️ Potential leakage detected! Features highly correlated with target:\")\n",
    "    print(suspect)\n",
    "else:\n",
    "    print(\"\\n✅ No features show suspiciously high correlation with target.\")"
   ]
  },
  {
   "cell_type": "markdown",
   "id": "7e1f6498",
   "metadata": {},
   "source": [
    "---"
   ]
  },
  {
   "cell_type": "markdown",
   "id": "bc2b1206",
   "metadata": {},
   "source": [
    "# 6. Model Evaluation\n",
    "\n",
    "A model is only useful if we know how well it performs.  \n",
    "\n",
    "We evaluate using:\n",
    "\n",
    "- **Classification report:** Accuracy, Precision, Recall, F1-score\n",
    "  \n",
    "- **ROC-AUC:** Measures ability to distinguish between classes.\n",
    "  \n",
    "- **Confusion Matrix:** Shows correct vs incorrect predictions.\n",
    "  \n",
    "- **ROC Curve:** Visual view of trade-off between sensitivity and specificity.\n",
    "\n",
    "These metrics together give a full picture of model performance."
   ]
  },
  {
   "cell_type": "markdown",
   "id": "2b2fbfe7",
   "metadata": {},
   "source": [
    "--"
   ]
  },
  {
   "cell_type": "markdown",
   "id": "237ed92a",
   "metadata": {},
   "source": [
    "## 6.1 Helper Function\n",
    "\n",
    "To avoid repeating code, we define a reusable function that:\n",
    "\n",
    "- Prints evaluation metrics\n",
    "\n",
    "- Displays confusion matrix\n",
    "\n",
    "- Plots ROC curve"
   ]
  },
  {
   "cell_type": "code",
   "execution_count": 9,
   "id": "419076ba",
   "metadata": {},
   "outputs": [],
   "source": [
    "def evaluate_model(y_true, y_pred, y_proba, model_name):\n",
    "    print(f\"--- {model_name} ---\")\n",
    "    print(classification_report(y_true, y_pred))\n",
    "    print(\"ROC-AUC:\", roc_auc_score(y_true, y_proba))\n",
    "    \n",
    "    # Confusion Matrix\n",
    "    cm = confusion_matrix(y_true, y_pred)\n",
    "    sns.heatmap(cm, annot=True, fmt=\"d\", cmap=\"Blues\")\n",
    "    plt.title(f\"{model_name} - Confusion Matrix\")\n",
    "    plt.xlabel(\"Predicted\")\n",
    "    plt.ylabel(\"Actual\")\n",
    "    plt.show()\n",
    "    \n",
    "    # ROC Curve\n",
    "    RocCurveDisplay.from_predictions(y_true, y_proba)\n",
    "    plt.title(f\"{model_name} - ROC Curve\")\n",
    "    plt.show()"
   ]
  },
  {
   "cell_type": "markdown",
   "id": "aa55885c",
   "metadata": {},
   "source": [
    "## 6.2 Logistic Regression Evaluation"
   ]
  },
  {
   "cell_type": "code",
   "execution_count": 10,
   "id": "3f7aa387",
   "metadata": {},
   "outputs": [
    {
     "name": "stdout",
     "output_type": "stream",
     "text": [
      "--- Logistic Regression ---\n",
      "              precision    recall  f1-score   support\n",
      "\n",
      "           0       0.79      0.82      0.81        61\n",
      "           1       0.85      0.83      0.84        77\n",
      "\n",
      "    accuracy                           0.83       138\n",
      "   macro avg       0.82      0.83      0.82       138\n",
      "weighted avg       0.83      0.83      0.83       138\n",
      "\n",
      "ROC-AUC: 0.9035554609325102\n"
     ]
    },
    {
     "data": {
      "image/png": "[encoded data removed]",
      "text/plain": [
       "<Figure size 640x480 with 2 Axes>"
      ]
     },
     "metadata": {},
     "output_type": "display_data"
    },
    {
     "data": {
      "image/png": "[encoded data removed]",
      "text/plain": [
       "<Figure size 640x480 with 1 Axes>"
      ]
     },
     "metadata": {},
     "output_type": "display_data"
    }
   ],
   "source": [
    "evaluate_model(y_val, y_val_pred_lr, y_val_proba_lr, \"Logistic Regression\")"
   ]
  },
  {
   "cell_type": "markdown",
   "id": "55346417",
   "metadata": {},
   "source": [
    "## 6.3 Random Forest Evaluation"
   ]
  },
  {
   "cell_type": "code",
   "execution_count": 11,
   "id": "a195d88f",
   "metadata": {},
   "outputs": [
    {
     "name": "stdout",
     "output_type": "stream",
     "text": [
      "--- Random Forest ---\n",
      "              precision    recall  f1-score   support\n",
      "\n",
      "           0       0.78      0.77      0.78        61\n",
      "           1       0.82      0.83      0.83        77\n",
      "\n",
      "    accuracy                           0.80       138\n",
      "   macro avg       0.80      0.80      0.80       138\n",
      "weighted avg       0.80      0.80      0.80       138\n",
      "\n",
      "ROC-AUC: 0.903449010006387\n"
     ]
    },
    {
     "data": {
      "image/png": "[encoded data removed]",
      "text/plain": [
       "<Figure size 640x480 with 2 Axes>"
      ]
     },
     "metadata": {},
     "output_type": "display_data"
    },
    {
     "data": {
      "image/png": "[encoded data removed]",
      "text/plain": [
       "<Figure size 640x480 with 1 Axes>"
      ]
     },
     "metadata": {},
     "output_type": "display_data"
    },
    {
     "name": "stdout",
     "output_type": "stream",
     "text": [
      "\n",
      "🤖 Logistic Regression vs Random Forest predictions identical: 93.48% of the time\n"
     ]
    }
   ],
   "source": [
    "evaluate_model(y_val, y_val_pred_rf, y_val_proba_rf, \"Random Forest\")\n",
    "\n",
    "# --- Compare predictions across models ---\n",
    "same_preds = (y_val_pred_lr == y_val_pred_rf).mean()\n",
    "print(f\"\\n🤖 Logistic Regression vs Random Forest predictions identical: {same_preds*100:.2f}% of the time\")"
   ]
  },
  {
   "cell_type": "markdown",
   "id": "838a47de",
   "metadata": {},
   "source": [
    "---"
   ]
  }
 ],
 "metadata": {
  "kernelspec": {
   "display_name": "3.12.1",
   "language": "python",
   "name": "python3"
  },
  "language_info": {
   "codemirror_mode": {
    "name": "ipython",
    "version": 3
   },
   "file_extension": ".py",
   "mimetype": "text/x-python",
   "name": "python",
   "nbconvert_exporter": "python",
   "pygments_lexer": "ipython3",
   "version": "3.12.1"
  }
 },
 "nbformat": 4,
 "nbformat_minor": 5
}
